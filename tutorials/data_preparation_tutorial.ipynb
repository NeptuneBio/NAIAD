{
 "cells": [
  {
   "cell_type": "markdown",
   "metadata": {},
   "source": [
    "# Data Preparation Tutorial\n",
    "\n",
    "The purpose of this tutorial is to provide a guide about how to prepare data from combinatorial phenotypic screening reuslts into a format parsable by NAIAD.\n",
    "\n",
    "NAIAD expects the data as a CSV with the following columns:\n",
    "\n",
    "`| gene1 | gene2 | score |`\n",
    "\n",
    "The columns `gene1`, `gene2` should contain gene names. `score` should contain a numeric phenotype value for the combination genetic perturbation from `gene1` and `gene2`. This table should also include scores for all single-gene perturbations in the dataset. For the single-gene perturbations, `gene1` is the gene, and `gene2` is 'negative', with the `score` corresponding to the phenotype score of the single perturbed gene.\n",
    "\n",
    "\n",
    "We will show two examples in this tutorial:\n",
    "\n",
    "1) Using the [Norman2019](https://www.science.org/doi/10.1126/science.aax4438) dataset which measures cell viability in combinatorial CRISPR activation (CRISPRa) screens of pairwise genetic interactions for ~120 genes.\n",
    "2) Using the [Horlbeck2018](https://www.cell.com/cell/fulltext/S0092-8674\\(18\\)30735-9) dataset which measures cell viability in combinatorial CRISPR interference (CRISPRi) screens of pairwise genetic interactions for ~400 genes."
   ]
  },
  {
   "cell_type": "markdown",
   "metadata": {},
   "source": [
    "## Set up notebook"
   ]
  },
  {
   "cell_type": "code",
   "execution_count": 1,
   "metadata": {},
   "outputs": [],
   "source": [
    "import os\n",
    "import numpy as np\n",
    "import pandas as pd\n",
    "from naiad import load_naiad_data"
   ]
  },
  {
   "cell_type": "code",
   "execution_count": 2,
   "metadata": {},
   "outputs": [],
   "source": [
    "# set some configuration settings for the notebook\n",
    "pd.set_option(\"mode.copy_on_write\", True)"
   ]
  },
  {
   "cell_type": "markdown",
   "metadata": {},
   "source": [
    "## Download Norman Data\n",
    "\n",
    "The combinatorial perturbation cell viability from the Norman2019 dataset is available in the supplemental data of the original paper. You can download it manually from [this link](https://www.science.org/doi/suppl/10.1126/science.aax4438/suppl_file/aax4438_tables3.xlsx), or follow the programmatic download below."
   ]
  },
  {
   "cell_type": "code",
   "execution_count": 3,
   "metadata": {},
   "outputs": [
    {
     "name": "stdout",
     "output_type": "stream",
     "text": [
      "mkdir: ./data/norman_raw_data: File exists\n",
      "--2024-12-23 15:20:10--  https://pmc.ncbi.nlm.nih.gov/articles/instance/6746554/bin/NIHMS1045467-supplement-Table_S3.xlsx\n",
      "Resolving pmc.ncbi.nlm.nih.gov (pmc.ncbi.nlm.nih.gov)... 34.107.134.59\n",
      "Connecting to pmc.ncbi.nlm.nih.gov (pmc.ncbi.nlm.nih.gov)|34.107.134.59|:443... connected.\n",
      "HTTP request sent, awaiting response... 200 OK\n",
      "Length: 7357480 (7.0M) [application/vnd.openxmlformats-officedocument.spreadsheetml.sheet]\n",
      "Saving to: ‘./data/norman_raw_data/norman_phenotype_data.xlsx’\n",
      "\n",
      "./data/norman_raw_d 100%[===================>]   7.02M  --.-KB/s    in 0.1s    \n",
      "\n",
      "2024-12-23 15:20:10 (57.0 MB/s) - ‘./data/norman_raw_data/norman_phenotype_data.xlsx’ saved [7357480/7357480]\n",
      "\n"
     ]
    }
   ],
   "source": [
    "norman_dir = './data/norman_raw_data'\n",
    "norman_data_path = os.path.join(norman_dir, \"norman_phenotype_data.xlsx\")\n",
    "\n",
    "# Use some shell commands to download the files into a target directory\n",
    "!mkdir '{norman_dir}'\n",
    "!wget --header=\"User-Agent: Mozilla/5.0\" \"https://pmc.ncbi.nlm.nih.gov/articles/instance/6746554/bin/NIHMS1045467-supplement-Table_S3.xlsx\" -O '{norman_data_path}'"
   ]
  },
  {
   "cell_type": "code",
   "execution_count": 4,
   "metadata": {},
   "outputs": [
    {
     "data": {
      "text/html": [
       "<div>\n",
       "<style scoped>\n",
       "    .dataframe tbody tr th:only-of-type {\n",
       "        vertical-align: middle;\n",
       "    }\n",
       "\n",
       "    .dataframe tbody tr th {\n",
       "        vertical-align: top;\n",
       "    }\n",
       "\n",
       "    .dataframe thead th {\n",
       "        text-align: right;\n",
       "    }\n",
       "</style>\n",
       "<table border=\"1\" class=\"dataframe\">\n",
       "  <thead>\n",
       "    <tr style=\"text-align: right;\">\n",
       "      <th></th>\n",
       "      <th>Unnamed: 0</th>\n",
       "      <th>barcode sequencing</th>\n",
       "      <th>Unnamed: 2</th>\n",
       "      <th>Unnamed: 3</th>\n",
       "      <th>Unnamed: 4</th>\n",
       "      <th>sgRNA sequencing</th>\n",
       "      <th>Unnamed: 6</th>\n",
       "      <th>Unnamed: 7</th>\n",
       "      <th>Unnamed: 8</th>\n",
       "      <th>triple sequencing</th>\n",
       "      <th>Unnamed: 10</th>\n",
       "      <th>Unnamed: 11</th>\n",
       "      <th>Unnamed: 12</th>\n",
       "      <th>triple sequencing.1</th>\n",
       "      <th>Unnamed: 14</th>\n",
       "      <th>Unnamed: 15</th>\n",
       "    </tr>\n",
       "  </thead>\n",
       "  <tbody>\n",
       "    <tr>\n",
       "      <th>0</th>\n",
       "      <td>NaN</td>\n",
       "      <td>endpoint</td>\n",
       "      <td>endpoint</td>\n",
       "      <td>T0</td>\n",
       "      <td>T0</td>\n",
       "      <td>endpoint</td>\n",
       "      <td>endpoint</td>\n",
       "      <td>T0</td>\n",
       "      <td>T0</td>\n",
       "      <td>endpoint</td>\n",
       "      <td>endpoint</td>\n",
       "      <td>T0</td>\n",
       "      <td>T0</td>\n",
       "      <td>phenotype</td>\n",
       "      <td>phenotype</td>\n",
       "      <td>phenotype</td>\n",
       "    </tr>\n",
       "    <tr>\n",
       "      <th>1</th>\n",
       "      <td>NaN</td>\n",
       "      <td>Rep1</td>\n",
       "      <td>Rep2</td>\n",
       "      <td>Rep1</td>\n",
       "      <td>Rep2</td>\n",
       "      <td>Rep1</td>\n",
       "      <td>Rep2</td>\n",
       "      <td>Rep1</td>\n",
       "      <td>Rep2</td>\n",
       "      <td>Rep1</td>\n",
       "      <td>Rep2</td>\n",
       "      <td>Rep1</td>\n",
       "      <td>Rep2</td>\n",
       "      <td>Rep1</td>\n",
       "      <td>Rep2</td>\n",
       "      <td>Replicate average</td>\n",
       "    </tr>\n",
       "    <tr>\n",
       "      <th>2</th>\n",
       "      <td>AHR_-_17338164.23-P1P2++AHR_-_17338164.23-P1P2</td>\n",
       "      <td>90</td>\n",
       "      <td>42</td>\n",
       "      <td>367</td>\n",
       "      <td>433</td>\n",
       "      <td>56</td>\n",
       "      <td>29</td>\n",
       "      <td>372</td>\n",
       "      <td>487</td>\n",
       "      <td>37</td>\n",
       "      <td>21</td>\n",
       "      <td>229</td>\n",
       "      <td>305</td>\n",
       "      <td>-0.470701</td>\n",
       "      <td>-0.532444</td>\n",
       "      <td>-0.501573</td>\n",
       "    </tr>\n",
       "    <tr>\n",
       "      <th>3</th>\n",
       "      <td>AHR_-_17338164.23-P1P2++AHR_-_17338168.23-P1P2</td>\n",
       "      <td>230</td>\n",
       "      <td>164</td>\n",
       "      <td>598</td>\n",
       "      <td>619</td>\n",
       "      <td>293</td>\n",
       "      <td>167</td>\n",
       "      <td>804</td>\n",
       "      <td>846</td>\n",
       "      <td>215</td>\n",
       "      <td>87</td>\n",
       "      <td>524</td>\n",
       "      <td>519</td>\n",
       "      <td>-0.334627</td>\n",
       "      <td>-0.424563</td>\n",
       "      <td>-0.379595</td>\n",
       "    </tr>\n",
       "    <tr>\n",
       "      <th>4</th>\n",
       "      <td>AHR_-_17338164.23-P1P2++ARID1A_+_27022167.23-P1P2</td>\n",
       "      <td>88</td>\n",
       "      <td>120</td>\n",
       "      <td>430</td>\n",
       "      <td>581</td>\n",
       "      <td>64</td>\n",
       "      <td>109</td>\n",
       "      <td>481</td>\n",
       "      <td>683</td>\n",
       "      <td>48</td>\n",
       "      <td>60</td>\n",
       "      <td>300</td>\n",
       "      <td>420</td>\n",
       "      <td>-0.479597</td>\n",
       "      <td>-0.445195</td>\n",
       "      <td>-0.462396</td>\n",
       "    </tr>\n",
       "  </tbody>\n",
       "</table>\n",
       "</div>"
      ],
      "text/plain": [
       "                                          Unnamed: 0 barcode sequencing  \\\n",
       "0                                                NaN           endpoint   \n",
       "1                                                NaN               Rep1   \n",
       "2     AHR_-_17338164.23-P1P2++AHR_-_17338164.23-P1P2                 90   \n",
       "3     AHR_-_17338164.23-P1P2++AHR_-_17338168.23-P1P2                230   \n",
       "4  AHR_-_17338164.23-P1P2++ARID1A_+_27022167.23-P1P2                 88   \n",
       "\n",
       "  Unnamed: 2 Unnamed: 3 Unnamed: 4 sgRNA sequencing Unnamed: 6 Unnamed: 7  \\\n",
       "0   endpoint         T0         T0         endpoint   endpoint         T0   \n",
       "1       Rep2       Rep1       Rep2             Rep1       Rep2       Rep1   \n",
       "2         42        367        433               56         29        372   \n",
       "3        164        598        619              293        167        804   \n",
       "4        120        430        581               64        109        481   \n",
       "\n",
       "  Unnamed: 8 triple sequencing Unnamed: 10 Unnamed: 11 Unnamed: 12  \\\n",
       "0         T0          endpoint    endpoint          T0          T0   \n",
       "1       Rep2              Rep1        Rep2        Rep1        Rep2   \n",
       "2        487                37          21         229         305   \n",
       "3        846               215          87         524         519   \n",
       "4        683                48          60         300         420   \n",
       "\n",
       "  triple sequencing.1 Unnamed: 14        Unnamed: 15  \n",
       "0           phenotype   phenotype          phenotype  \n",
       "1                Rep1        Rep2  Replicate average  \n",
       "2           -0.470701   -0.532444          -0.501573  \n",
       "3           -0.334627   -0.424563          -0.379595  \n",
       "4           -0.479597   -0.445195          -0.462396  "
      ]
     },
     "execution_count": 4,
     "metadata": {},
     "output_type": "execute_result"
    }
   ],
   "source": [
    "norman_data = pd.read_excel(norman_data_path)\n",
    "norman_data.head() # inspect data"
   ]
  },
  {
   "cell_type": "markdown",
   "metadata": {},
   "source": [
    "As you can see in the above table, column 0 corresponds to the genes targeted by each CRISPRa guide, columns 1-4 correspond to guide barcode sequencing counts, columns 5-8 correspond to sgRNA counts, columns 9-12 correspond to triple sequencing counts (see [Horlbeck2018](https://www.cell.com/cell/fulltext/S0092-8674\\(18\\)30735-9) for a description of triple sequencing), and columns 13-15 correspond to cell viability calculations based on the triple sequencing counts.\n",
    "\n",
    "We will be using column 0 and column 15 to annotate the genes targeted in each combinatorial perturbation, and the corresponding phenotypic outcome of each perturbation.\n",
    "\n",
    "We'll process the data in the following ways:\n",
    "1. Extract the relevant columns and rows from the data\n",
    "2. Drop all entries that lack a cell viability score\n",
    "3. Extract the gene names associated with the guides used in each combination\n",
    "4. Store these gene names as new columns within the data frame\n",
    "5. Keep only the gene and score columns that will be used by NAIAD\n",
    "\n",
    "Lastly, we will save the data to file.\n"
   ]
  },
  {
   "cell_type": "code",
   "execution_count": 5,
   "metadata": {},
   "outputs": [
    {
     "data": {
      "text/html": [
       "<div>\n",
       "<style scoped>\n",
       "    .dataframe tbody tr th:only-of-type {\n",
       "        vertical-align: middle;\n",
       "    }\n",
       "\n",
       "    .dataframe tbody tr th {\n",
       "        vertical-align: top;\n",
       "    }\n",
       "\n",
       "    .dataframe thead th {\n",
       "        text-align: right;\n",
       "    }\n",
       "</style>\n",
       "<table border=\"1\" class=\"dataframe\">\n",
       "  <thead>\n",
       "    <tr style=\"text-align: right;\">\n",
       "      <th></th>\n",
       "      <th>gene1</th>\n",
       "      <th>gene2</th>\n",
       "      <th>score</th>\n",
       "    </tr>\n",
       "  </thead>\n",
       "  <tbody>\n",
       "    <tr>\n",
       "      <th>2</th>\n",
       "      <td>AHR</td>\n",
       "      <td>AHR</td>\n",
       "      <td>-0.501573</td>\n",
       "    </tr>\n",
       "    <tr>\n",
       "      <th>3</th>\n",
       "      <td>AHR</td>\n",
       "      <td>AHR</td>\n",
       "      <td>-0.379595</td>\n",
       "    </tr>\n",
       "    <tr>\n",
       "      <th>4</th>\n",
       "      <td>AHR</td>\n",
       "      <td>ARID1A</td>\n",
       "      <td>-0.462396</td>\n",
       "    </tr>\n",
       "    <tr>\n",
       "      <th>5</th>\n",
       "      <td>AHR</td>\n",
       "      <td>ARID1A</td>\n",
       "      <td>-0.577289</td>\n",
       "    </tr>\n",
       "    <tr>\n",
       "      <th>6</th>\n",
       "      <td>AHR</td>\n",
       "      <td>ARRDC3</td>\n",
       "      <td>-0.405569</td>\n",
       "    </tr>\n",
       "  </tbody>\n",
       "</table>\n",
       "</div>"
      ],
      "text/plain": [
       "  gene1   gene2     score\n",
       "2   AHR     AHR -0.501573\n",
       "3   AHR     AHR -0.379595\n",
       "4   AHR  ARID1A -0.462396\n",
       "5   AHR  ARID1A -0.577289\n",
       "6   AHR  ARRDC3 -0.405569"
      ]
     },
     "execution_count": 5,
     "metadata": {},
     "output_type": "execute_result"
    }
   ],
   "source": [
    "# 1. Extract the relevant columns and rows from the data\n",
    "# 2. Drop all entries that lack a cell viability score\n",
    "norman_data = norman_data.iloc[2:, [0, 15]]                 # drop first 2 rows, and only take columns 0 and 15\n",
    "norman_data.columns = ['guides', 'score']                   # rename the columns to something more convenient\n",
    "norman_data = norman_data[~norman_data['score'].isna()]     # drop combinations without a score\n",
    "\n",
    "# 3. Extract the gene names associated with the guides used in each combination\n",
    "gene_pairs = norman_data.iloc[:, 0]\n",
    "g1, g2 = zip(*[[g.split('_')[0] for g in pair.split('++')] for pair in gene_pairs])\n",
    "\n",
    "\n",
    "# 4. Store these gene names as new columns within the data frame\n",
    "norman_data['gene1'] = g1\n",
    "norman_data['gene2'] = g2\n",
    "\n",
    "# 5. Keep only the gene and score columns that will be used by NAIAD\n",
    "norman_data = norman_data.loc[:, ['gene1', 'gene2', 'score']]\n",
    "\n",
    "# save data to file\n",
    "norman_comb_file = os.path.join(norman_dir, 'norman_gamma_score.csv')\n",
    "norman_data.to_csv(norman_comb_file)\n",
    "\n",
    "norman_data.head()"
   ]
  },
  {
   "cell_type": "markdown",
   "metadata": {},
   "source": [
    "Now, we have a dataset containing gene combinations and their associated cell viability scores. The gene combinations include both **single-gene** and **multiple-gene** perturbations.\n",
    "\n",
    "You may notice that there are replicate measurements within this dataset as a result of each gene being targeted by multiple guides. Furthermore, replicates for each combination may have switched names between the 'gene1' and 'gene2' columns, e.g. comb1 is 'geneA + geneB' and comb2 is 'geneB + geneA'.\n",
    "\n",
    "The `load_naiad_data` function will average the phenotype scores for these duplicate combinations, generating in a single score for each unique gene combination. These unique per-combination scores are used to train NAIAD. The order of gene1 and gene2 is shuffled by default to eliminate positional effects.\n",
    "\n",
    "By default, the control gene in our dataset is called `negative`. If the control gene in your dataset has a different name, you should update the `control_gene_name` parameter of the `load_naiad_data` function with your control gene name."
   ]
  },
  {
   "cell_type": "code",
   "execution_count": 9,
   "metadata": {},
   "outputs": [
    {
     "ename": "AxisError",
     "evalue": "axis 1 is out of bounds for array of dimension 1",
     "output_type": "error",
     "traceback": [
      "\u001b[0;31m---------------------------------------------------------------------------\u001b[0m",
      "\u001b[0;31mAxisError\u001b[0m                                 Traceback (most recent call last)",
      "Cell \u001b[0;32mIn[9], line 2\u001b[0m\n\u001b[1;32m      1\u001b[0m \u001b[39m# load processed DF for running NAIAD model\u001b[39;00m\n\u001b[0;32m----> 2\u001b[0m naiad_data \u001b[39m=\u001b[39m load_naiad_data(norman_comb_file, control_gene_name \u001b[39m=\u001b[39;49m \u001b[39m'\u001b[39;49m\u001b[39mnegative\u001b[39;49m\u001b[39m'\u001b[39;49m, shuffle_gene\u001b[39m=\u001b[39;49m\u001b[39mTrue\u001b[39;49;00m)\n\u001b[1;32m      3\u001b[0m naiad_data\u001b[39m.\u001b[39mhead()\n",
      "File \u001b[0;32m~/Desktop/NAIAD/naiad/utils.py:43\u001b[0m, in \u001b[0;36mload_naiad_data\u001b[0;34m(data_path, control_gene_name, shuffle_gene)\u001b[0m\n\u001b[1;32m     41\u001b[0m naiad_data \u001b[39m=\u001b[39m reorganize_single_gene_effects(phenotype_df, control_gene_name\u001b[39m=\u001b[39mcontrol_gene_name)\n\u001b[1;32m     42\u001b[0m \u001b[39mif\u001b[39;00m shuffle_gene:\n\u001b[0;32m---> 43\u001b[0m     naiad_data \u001b[39m=\u001b[39m shuffle_genes(naiad_data)\n\u001b[1;32m     44\u001b[0m \u001b[39mreturn\u001b[39;00m naiad_data\n",
      "File \u001b[0;32m~/Desktop/NAIAD/naiad/utils.py:65\u001b[0m, in \u001b[0;36mshuffle_genes\u001b[0;34m(data, gene_prefix, score_suffix)\u001b[0m\n\u001b[1;32m     62\u001b[0m scores_array \u001b[39m=\u001b[39m data[score_cols]\u001b[39m.\u001b[39mvalues\n\u001b[1;32m     64\u001b[0m \u001b[39m# Generate shuffled indices for each row\u001b[39;00m\n\u001b[0;32m---> 65\u001b[0m shuffled_indices \u001b[39m=\u001b[39m np\u001b[39m.\u001b[39;49mapply_along_axis(\n\u001b[1;32m     66\u001b[0m     \u001b[39mlambda\u001b[39;49;00m x: np\u001b[39m.\u001b[39;49mrandom\u001b[39m.\u001b[39;49mpermutation(\u001b[39mlen\u001b[39;49m(x)), axis\u001b[39m=\u001b[39;49m\u001b[39m1\u001b[39;49m, arr\u001b[39m=\u001b[39;49mnp\u001b[39m.\u001b[39;49marange(\u001b[39mlen\u001b[39;49m(gene_cols))\n\u001b[1;32m     67\u001b[0m )\n\u001b[1;32m     69\u001b[0m \u001b[39m# Shuffle the arrays using the generated indices\u001b[39;00m\n\u001b[1;32m     70\u001b[0m shuffled_genes \u001b[39m=\u001b[39m np\u001b[39m.\u001b[39mtake_along_axis(genes_array, shuffled_indices, axis\u001b[39m=\u001b[39m\u001b[39m1\u001b[39m)\n",
      "File \u001b[0;32m~/miniconda3/envs/naiad/lib/python3.9/site-packages/numpy/lib/_shape_base_impl.py:366\u001b[0m, in \u001b[0;36mapply_along_axis\u001b[0;34m(func1d, axis, arr, *args, **kwargs)\u001b[0m\n\u001b[1;32m    363\u001b[0m arr \u001b[39m=\u001b[39m conv[\u001b[39m0\u001b[39m]\n\u001b[1;32m    365\u001b[0m nd \u001b[39m=\u001b[39m arr\u001b[39m.\u001b[39mndim\n\u001b[0;32m--> 366\u001b[0m axis \u001b[39m=\u001b[39m normalize_axis_index(axis, nd)\n\u001b[1;32m    368\u001b[0m \u001b[39m# arr, with the iteration axis at the end\u001b[39;00m\n\u001b[1;32m    369\u001b[0m in_dims \u001b[39m=\u001b[39m \u001b[39mlist\u001b[39m(\u001b[39mrange\u001b[39m(nd))\n",
      "\u001b[0;31mAxisError\u001b[0m: axis 1 is out of bounds for array of dimension 1"
     ]
    }
   ],
   "source": [
    "# load processed DF for running NAIAD model\n",
    "naiad_data = load_naiad_data(norman_comb_file, control_gene_name = 'negative', shuffle_gene=True)\n",
    "naiad_data.head()"
   ]
  },
  {
   "cell_type": "markdown",
   "metadata": {},
   "source": [
    "### Model Norman data by linear model\n",
    "We have processed data for combinatorial perturbations. Applying a linear model provides a general overview of the data, allowing us to evaluate the extent and strength of non-linear gene-gene interactions influencing cell viability.\n",
    "\n",
    "The linear model is defined as:\n",
    "\n",
    "$$ Y_{i+j} = \\beta_0 + \\beta_1 Y_i + \\beta_2 Y_j $$\n",
    "\n",
    "where $Y_i$ represents the scalar effect of a single-gene $i$ perturbation, and $Y_{i+j}$ denotes the combined effect of a two-gene $(i + j)$ perturbation."
   ]
  },
  {
   "cell_type": "code",
   "execution_count": null,
   "metadata": {},
   "outputs": [],
   "source": [
    "from sklearn.linear_model import LinearRegression\n",
    "import matplotlib.pyplot as plt\n",
    "import seaborn as sns\n"
   ]
  },
  {
   "cell_type": "code",
   "execution_count": null,
   "metadata": {},
   "outputs": [],
   "source": [
    "# Fit linear model\n",
    "model = LinearRegression()\n",
    "model.fit(naiad_data[['g1_score', 'g2_score']], naiad_data['comb_score'])\n",
    "print(\"Coefficients:\", model.coef_)\n",
    "print(\"Intercept:\", model.intercept_)"
   ]
  },
  {
   "cell_type": "code",
   "execution_count": null,
   "metadata": {},
   "outputs": [],
   "source": [
    "naiad_data['linear_predicted'] = model.predict(naiad_data[['g1_score', 'g2_score']]) \n",
    "naiad_data['linear_residuals'] = naiad_data['comb_score'] - naiad_data['linear_predicted']\n",
    "lower_quant = naiad_data['linear_residuals'].quantile(0.025)\n",
    "upper_quant = naiad_data['linear_residuals'].quantile(0.975)\n"
   ]
  },
  {
   "cell_type": "markdown",
   "metadata": {},
   "source": [
    "### Comparison Between Linear Model Predictions and Measured Combinatorial Perturbations\n",
    "\n",
    "The linear model demonstrates that most gene pairs can be predicted by simply summing the effects of individual single-gene perturbations. Approximately 90–95% of gene interactions exhibit additive behavior. Here, cell viability is used as a measure of negative selection, identifying gene pairs that most effectively reduce cell viability. Notably, non-linear effects are concentrated in the left bottom of the plot, where strong cellular phenotypic changes occur. The linear model fails to capture synergistic or buffering effects, so we need to use deep learning models to account for complex, non-linear gene-gene interactions."
   ]
  },
  {
   "cell_type": "code",
   "execution_count": null,
   "metadata": {},
   "outputs": [],
   "source": [
    "\n",
    "plt.figure(figsize=(12, 4))\n",
    "\n",
    "plt.subplot(1, 2, 1)\n",
    "sns.scatterplot(x='comb_score', y='linear_predicted', data=naiad_data)\n",
    "plt.plot([-0.8, 0.3], [-0.8, 0.3], color='black' )\n",
    "plt.plot([-0.8, 0.3], [-0.8 - lower_quant, 0.3 - lower_quant], color='blue', linestyle='--', label = 'Synergistic' )\n",
    "plt.plot([-0.8, 0.3], [-0.8 - upper_quant, 0.3 - upper_quant], color='red', linestyle='--', label = 'Buffering' )\n",
    "x_vals = np.linspace(-0.8, 0.3, 100)\n",
    " \n",
    "plt.title(\"Combinatorial perturbation effects prediction\")\n",
    "plt.xlabel(\"Measured combinatorial effects\")\n",
    "plt.ylabel(\"Linear model predicted effects\")\n",
    "plt.legend() \n",
    "\n",
    "\n",
    "plt.subplot(1, 2, 2)\n",
    "naiad_data['linear_residuals'].hist(bins=50, color='lightgrey', edgecolor='black', linestyle='--')\n",
    "plt.axvline(lower_quant, color='blue', linestyle='--', label='2.5%, Synergistic')\n",
    "plt.axvline(upper_quant, color='red', linestyle='--', label='97.5%, Buffering')\n",
    "plt.title(\"Histogram of Linear Residuals (Measured - Predicted)\")\n",
    "plt.xlabel(\"Linear Residuals\")\n",
    "plt.ylabel(\"Frequency\")\n",
    "plt.legend()\n",
    "\n",
    "# Show the plots\n",
    "plt.tight_layout()\n",
    "plt.show()"
   ]
  },
  {
   "cell_type": "markdown",
   "metadata": {},
   "source": [
    "## Download Horlbeck Data\n",
    "\n",
    "We access the Horlbeck Jurkat data from this URL: https://data.mendeley.com/datasets/rdzk59n6j4/1. \n",
    "\n",
    "This dataset shares many similar features with the Norman dataset, so the processing will be similar."
   ]
  },
  {
   "cell_type": "code",
   "execution_count": null,
   "metadata": {},
   "outputs": [],
   "source": [
    "horlbeck_dir = './data/horlbeck_raw_data'\n",
    "\n",
    "# Use some shell commands to download the files into a target directory\n",
    "!mkdir '{horlbeck_dir}'\n",
    "!wget 'https://data.mendeley.com/public-files/datasets/rdzk59n6j4/files/7ab168b7-3944-4f35-b249-5a672b32b20c/file_downloaded' -P '{horlbeck_dir}'\n",
    "!unzip  -o '{os.path.join(horlbeck_dir, \"file_downloaded\")}'   -d  '{horlbeck_dir}'\n",
    "!rm '{os.path.join(horlbeck_dir, \"file_downloaded\")}'"
   ]
  },
  {
   "cell_type": "code",
   "execution_count": null,
   "metadata": {},
   "outputs": [],
   "source": [
    "horlbeck_data = pd.read_csv(os.path.join(horlbeck_dir, 'CRISPRi_Jurkat_all_pair_phenotypes.txt'), sep='\\t')\n",
    "\n",
    "horlbeck_data.head()"
   ]
  },
  {
   "cell_type": "markdown",
   "metadata": {},
   "source": [
    "Like the Norman data, we will use the phenotype scores calculated from the 'Triple Sequencing' columns. The main difference between this dataset and the Norman dataset is that there are 2 replicates per guide pair. As a result, we will add an additional step of processing to average the phenotype score between these replicates.\n",
    "\n",
    "The processing steps are similar, with the addition of a new step between 4 and 5:\n",
    "1. Extract the relevant columns and rows from the data\n",
    "2. Drop all entries that lack a cell viability score\n",
    "3. Extract the gene names associated with the guides used in each combination\n",
    "4. Store these gene names as new columns within the data frame\n",
    "4b. Average scores between replicates for the same guide pair\n",
    "5. Keep only the gene and score columns that will be used by NAIAD\n",
    "\n",
    "Lastly, we will save the data to file."
   ]
  },
  {
   "cell_type": "code",
   "execution_count": null,
   "metadata": {},
   "outputs": [],
   "source": [
    "# 1. Extract the relevant columns and rows from the data\n",
    "# 2. Drop all entries that lack a cell viability score\n",
    "horlbeck_data = horlbeck_data.iloc[1:, 0:3]                        # drop first row, and only take columns 0-2\n",
    "horlbeck_data.columns = ['guides', 'score1', 'score2']             # rename the columns to something more convenient\n",
    "horlbeck_data = horlbeck_data[~horlbeck_data['score1'].isna()]     # drop combinations from replicate 1 without a score\n",
    "horlbeck_data = horlbeck_data[~horlbeck_data['score2'].isna()]     # drop combinations from replicate 1 without a score\n",
    "\n",
    "\n",
    "# 3. Extract the gene names associated with the guides used in each combination\n",
    "gene_pairs = horlbeck_data.iloc[:, 0]\n",
    "g1, g2 = zip(*[[g.split('_')[0] for g in pair.split('++')] for pair in gene_pairs])\n",
    "\n",
    "\n",
    "# 4. Store these gene names as new columns within the data frame\n",
    "horlbeck_data['gene1'] = g1\n",
    "horlbeck_data['gene2'] = g2\n",
    "\n",
    "# 4b. Average scores between replicates for the same guide pair\n",
    "horlbeck_data['score'] = (horlbeck_data['score1'].astype(np.float32) + horlbeck_data['score2'].astype(np.float32)) / 2\n",
    "\n",
    "# 5. Keep only the gene and score columns that will be used by NAIAD\n",
    "horlbeck_data = horlbeck_data.loc[:, ['gene1', 'gene2', 'score']]\n",
    "\n",
    "# save data to file\n",
    "horlbeck_comb_file = os.path.join(horlbeck_dir, 'horlbeck_gamma_score.csv')\n",
    "horlbeck_data.to_csv(horlbeck_comb_file)\n",
    "\n",
    "horlbeck_data.head()"
   ]
  },
  {
   "cell_type": "code",
   "execution_count": null,
   "metadata": {},
   "outputs": [],
   "source": [
    "# load data to use for NAIAD model\n",
    "naiad_data = load_naiad_data(horlbeck_comb_file)\n",
    "naiad_data.head()"
   ]
  },
  {
   "cell_type": "code",
   "execution_count": null,
   "metadata": {},
   "outputs": [],
   "source": []
  }
 ],
 "metadata": {
  "kernelspec": {
   "display_name": "naiad",
   "language": "python",
   "name": "python3"
  },
  "language_info": {
   "codemirror_mode": {
    "name": "ipython",
    "version": 3
   },
   "file_extension": ".py",
   "mimetype": "text/x-python",
   "name": "python",
   "nbconvert_exporter": "python",
   "pygments_lexer": "ipython3",
   "version": "3.9.20"
  }
 },
 "nbformat": 4,
 "nbformat_minor": 2
}
