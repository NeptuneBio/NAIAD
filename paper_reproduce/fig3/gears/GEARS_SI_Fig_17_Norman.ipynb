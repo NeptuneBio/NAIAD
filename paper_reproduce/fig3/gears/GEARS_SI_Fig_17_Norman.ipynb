{
 "cells": [
  {
   "cell_type": "markdown",
   "id": "48c30a05",
   "metadata": {},
   "source": [
    "### NOTE: must set up GEARS via this repo to run this notebook: https://github.com/yhr91/GEARS_misc"
   ]
  },
  {
   "cell_type": "code",
   "execution_count": 1,
   "metadata": {},
   "outputs": [],
   "source": [
    "import pandas as pd\n",
    "import numpy as np\n",
    "import pickle\n",
    "\n",
    "from sklearn.preprocessing import PolynomialFeatures\n",
    "from sklearn.linear_model import LinearRegression\n",
    "from sklearn.pipeline import make_pipeline\n",
    "\n",
    "import argparse\n",
    "import sys\n",
    "sys.path.insert(0, '../../GEARS_misc')\n",
    "\n",
    "from gears import PertData, GEARS\n",
    "\n",
    "results_folder = './results/0916_paper/n_obs/'\n",
    "dataset = 'norman'\n",
    "data_path = './'\n",
    "model = 'gears'\n",
    "device = 'cuda'\n",
    "seed = 1\n",
    "\n",
    "\n",
    "def load_data(seed):\n",
    "    pert_data = PertData(data_path, gene_path='../../data/gears_reproduce/essential_norman.pkl') # specific saved folder\n",
    "    # pert_data.load(data_path= data_path+dataset) # load the processed data, the path is saved folder + dataset_name\n",
    "    pert_data.load(data_name = dataset) # load the processed data, the path is saved folder + dataset_name\n",
    "    pert_data.prepare_split(split = 'simulation', seed = seed)\n",
    "    pert_data.get_dataloader(batch_size = 32, test_batch_size = 32)\n",
    "    \n",
    "    adata_df = pert_data.adata.to_df()\n",
    "    adata_df['condition'] = pert_data.adata.obs['condition']\n",
    "    mean_df = adata_df.groupby('condition').mean()\n",
    "    ctrl_mean = mean_df.loc['ctrl']\n",
    "    \n",
    "    return pert_data, ctrl_mean, mean_df\n",
    "\n",
    "def load_model(pert_data):\n",
    "    gears_model = GEARS(pert_data, device = 'cuda',\n",
    "                weight_bias_track = False, \n",
    "                proj_name = 'norman', \n",
    "                exp_name = 'gears',\n",
    "                gi_predict = True)\n",
    "    gears_model.model_initialize(hidden_size = 64,\n",
    "                                 go_path='./data/go_essential_norman.csv')\n",
    "    # gears_model.model_initialize(hidden_size = 64)\n",
    "    return gears_model\n",
    "    "
   ]
  },
  {
   "cell_type": "code",
   "execution_count": 2,
   "id": "b5196677",
   "metadata": {},
   "outputs": [],
   "source": [
    "# pert_data = PertData('../data/gears_reproduce')\n",
    "# pert_data.load(data_name = 'norman')"
   ]
  },
  {
   "cell_type": "code",
   "execution_count": 3,
   "metadata": {},
   "outputs": [
    {
     "name": "stderr",
     "output_type": "stream",
     "text": [
      "Found local copy...\n",
      "Found local copy...\n",
      "These perturbations are not in the GO graph and is thus not able to make prediction for...\n",
      "['RHOXF2BB+ctrl' 'LYL1+IER5L' 'ctrl+IER5L' 'KIAA1804+ctrl' 'IER5L+ctrl'\n",
      " 'RHOXF2BB+ZBTB25' 'RHOXF2BB+SET']\n",
      "Local copy of pyg dataset is detected. Loading...\n",
      "Done!\n",
      "Local copy of split is detected. Loading...\n",
      "Simulation split test composition:\n",
      "combo_seen0:9\n",
      "combo_seen1:43\n",
      "combo_seen2:19\n",
      "unseen_single:36\n",
      "Done!\n",
      "Creating dataloaders....\n",
      "Done!\n"
     ]
    }
   ],
   "source": [
    "pert_data, ctrl_mean, mean_df = load_data(seed)\n",
    "gears_model = load_model(pert_data)"
   ]
  },
  {
   "cell_type": "code",
   "execution_count": 4,
   "metadata": {
    "scrolled": true
   },
   "outputs": [
    {
     "name": "stderr",
     "output_type": "stream",
     "text": [
      "Start Training...\n",
      "Done!\n",
      "Start Testing...\n"
     ]
    },
    {
     "name": "stderr",
     "output_type": "stream",
     "text": [
      "Best performing model: Test Top 20 DE MSE: 0.4323\n",
      "Start doing subgroup analysis for simulation split...\n",
      "test_combo_seen0_mse: 0.00861961\n",
      "test_combo_seen0_pearson: 0.9740089463354202\n",
      "test_combo_seen0_mse_de: 0.35451558\n",
      "test_combo_seen0_pearson_de: 0.6943848168217962\n",
      "test_combo_seen1_mse: 0.009928464\n",
      "test_combo_seen1_pearson: 0.9702276930012425\n",
      "test_combo_seen1_mse_de: 0.48147526\n",
      "test_combo_seen1_pearson_de: 0.7319111148370976\n",
      "test_combo_seen2_mse: 0.0073021366\n",
      "test_combo_seen2_pearson: 0.9780826741843468\n",
      "test_combo_seen2_mse_de: 0.60655135\n",
      "test_combo_seen2_pearson_de: 0.7942141825184494\n",
      "test_unseen_single_mse: 0.0041696737\n",
      "test_unseen_single_pearson: 0.9873197976867932\n",
      "test_unseen_single_mse_de: 0.30105245\n",
      "test_unseen_single_pearson_de: 0.8470390280114511\n",
      "test_combo_seen0_pearson_delta: -0.030405572704734676\n",
      "test_combo_seen0_frac_opposite_direction_top20_non_dropout: 0.5888888888888889\n",
      "test_combo_seen0_frac_sigma_below_1_non_dropout: 0.5\n",
      "test_combo_seen0_mse_top20_de_non_dropout: 0.6062999\n",
      "test_combo_seen1_pearson_delta: 0.00024107846395127907\n",
      "test_combo_seen1_frac_opposite_direction_top20_non_dropout: 0.48372093023255813\n",
      "test_combo_seen1_frac_sigma_below_1_non_dropout: 0.44651162790697674\n",
      "test_combo_seen1_mse_top20_de_non_dropout: 0.6901744\n",
      "test_combo_seen2_pearson_delta: -0.009831389821857685\n",
      "test_combo_seen2_frac_opposite_direction_top20_non_dropout: 0.4868421052631579\n",
      "test_combo_seen2_frac_sigma_below_1_non_dropout: 0.5289473684210527\n",
      "test_combo_seen2_mse_top20_de_non_dropout: 0.6381812\n",
      "test_unseen_single_pearson_delta: 0.0043130451364415305\n",
      "test_unseen_single_frac_opposite_direction_top20_non_dropout: 0.4791666666666667\n",
      "test_unseen_single_frac_sigma_below_1_non_dropout: 0.8027777777777778\n",
      "test_unseen_single_mse_top20_de_non_dropout: 0.3350408\n",
      "Done!\n"
     ]
    }
   ],
   "source": [
    "gears_model.train(epochs = 0, lr = 1e-3)"
   ]
  },
  {
   "cell_type": "code",
   "execution_count": 5,
   "metadata": {},
   "outputs": [],
   "source": [
    "### turn the model on \n",
    "model = gears_model.model\n",
    "model.cell_fitness_pred = True\n"
   ]
  },
  {
   "cell_type": "code",
   "execution_count": 6,
   "metadata": {},
   "outputs": [],
   "source": [
    "adata = gears_model.adata\n",
    "ctrl_adata = adata[adata.obs['condition'] == 'ctrl']"
   ]
  },
  {
   "cell_type": "code",
   "execution_count": 7,
   "metadata": {},
   "outputs": [],
   "source": [
    "all_pert_list_options = gears_model.pert_list"
   ]
  },
  {
   "cell_type": "code",
   "execution_count": 8,
   "metadata": {},
   "outputs": [],
   "source": [
    "with open('./data/GI_data.pkl', 'rb') as f:\n",
    "    fitness_data = pickle.load(f)\n",
    "    \n",
    "unique_pert_genes = fitness_data['good_phen'].index.values\n",
    "\n",
    "from itertools import combinations\n",
    "pert_list = [i[0] + '+' + i[1] for i in list(combinations(fitness_data['good_phen'].index.values, 2))]"
   ]
  },
  {
   "cell_type": "code",
   "execution_count": 9,
   "id": "6c5e7530",
   "metadata": {},
   "outputs": [
    {
     "data": {
      "text/plain": [
       "0.0669839569422"
      ]
     },
     "execution_count": 9,
     "metadata": {},
     "output_type": "execute_result"
    }
   ],
   "source": [
    "fitness_data['good_phen']['MAML2']['MAML2']"
   ]
  },
  {
   "cell_type": "code",
   "execution_count": 10,
   "id": "6e7047b2",
   "metadata": {},
   "outputs": [
    {
     "data": {
      "text/plain": [
       "{'TSC22D1': -0.08346608425344999,\n",
       " 'KLF1_MAP2K6': 0.1910113250305,\n",
       " 'NegCtrl10': nan,\n",
       " 'CEBPE_RUNX1T1': -0.31674695886575,\n",
       " 'MAML2': 0.06080807986395001,\n",
       " 'CEBPE': -0.4039303508675,\n",
       " 'NegCtrl0': nan,\n",
       " 'CBL_PTPN9': -0.32823388454924995,\n",
       " 'TGFBR2_ETS2': -0.10196801640145,\n",
       " 'SGK1_TBX3': -0.20281957311175,\n",
       " 'DUSP9': -0.3320538600205,\n",
       " 'MAP2K6_SPI1': -0.2769397429575,\n",
       " 'ELMSAN1': 0.0363236090397,\n",
       " 'UBASH3B_PTPN12': -0.27127366479875004,\n",
       " 'FOXA1': -0.2326298248365,\n",
       " 'FOXA3_FOXA1': -0.4693495371825,\n",
       " 'ETS2_IGDCC3': -0.29297680154775,\n",
       " 'BCORL1': -0.054614532756199985,\n",
       " 'MEIS1': -0.12739778786800002,\n",
       " 'GLB1L2': -0.07379064728580001,\n",
       " 'KLF1': 0.143951092615,\n",
       " 'MAP2K6_IKZF3': -0.2537396657525,\n",
       " 'BAK1': -0.4035843530275001,\n",
       " 'FEV': -0.168077125293,\n",
       " 'MAP2K3_SLC38A2': 0.0807590988134975,\n",
       " 'CBL': -0.121284476273,\n",
       " 'ETS2': -0.123139654297,\n",
       " 'SET': -0.180733756213,\n",
       " 'TBX3': -0.0901566275203,\n",
       " 'LHX1': -0.1963629441915,\n",
       " 'KLF1_FOXA1': -0.16398009692675,\n",
       " 'TBX3_TBX2': -0.142577028222,\n",
       " 'SLC4A1': -0.403244083313,\n",
       " 'RREB1': -0.2087091677575,\n",
       " 'ZNF318': -0.0476286403247,\n",
       " 'DUSP9_MAPK1': -0.19491968688499997,\n",
       " 'COL2A1': -0.34329917164000007,\n",
       " 'ZBTB25': -0.0658019989079,\n",
       " 'MAP4K5': -0.08666692215405,\n",
       " 'CEBPE_KLF1': -0.176462074998375,\n",
       " 'UBASH3B': -0.112276647435,\n",
       " 'SLC6A9': -0.0537270546415,\n",
       " 'MIDN': -0.268205580126,\n",
       " 'UBASH3B_OSR2': -0.13219221893650002,\n",
       " 'DLX2': -0.1985056919065,\n",
       " 'UBASH3B_ZBTB25': -0.257092861221,\n",
       " 'CBFA2T3': -0.160668082404,\n",
       " 'HES7': -0.312858520736,\n",
       " 'DUSP9_ETS2': -0.297321371649,\n",
       " 'ZNF318_FOXL2': -0.37313415775799996,\n",
       " 'SET_CEBPE': -0.37885299841250003,\n",
       " 'UBASH3B_PTPN9': -0.28324520830975,\n",
       " 'IGDCC3_ZBTB25': -0.41635630512625,\n",
       " 'AHR': -0.325256968889,\n",
       " 'FOXO4': -0.428540109407,\n",
       " 'RHOXF2B': -0.357056360748,\n",
       " 'KLF1_BAK1': -0.170696878873,\n",
       " 'RUNX1T1': -0.06595194131465,\n",
       " 'S1PR2': -0.16416379104450002,\n",
       " 'POU3F2': -0.2019849330385,\n",
       " 'LYL1_IER5L': -0.4615196964385,\n",
       " 'CNN1': -0.09770986612915,\n",
       " 'IGDCC3_MAPK1': -0.263041371783,\n",
       " 'CELF2': -0.07375986835862,\n",
       " 'JUN_CEBPA': -0.640107288368,\n",
       " 'MAP2K3': 0.06621869839684999,\n",
       " 'NegCtrl1': nan,\n",
       " 'MAP4K3': -0.1161794563699,\n",
       " 'ZC3HAV1_CEBPE': -0.14638116364282502,\n",
       " 'CDKN1A': -0.2288907438965,\n",
       " 'UBASH3B_UBASH3A': -0.16792496665125,\n",
       " 'NegCtrl11': nan,\n",
       " 'MAP2K3_MAP2K6': 0.08519581347295001,\n",
       " 'MAPK1_PRTG': -0.33837971427475,\n",
       " 'PTPN1': -0.2632920621055,\n",
       " 'TBX2': -0.050471380888100006,\n",
       " 'IER5L': -0.3383922687665,\n",
       " 'PTPN12': -0.07060535051865,\n",
       " 'TP73': -0.58438583693,\n",
       " 'MAP7D1': -0.1069903363002,\n",
       " 'MAP2K3_IKZF3': -0.20822358849625,\n",
       " 'FOSB': -0.1464188749585,\n",
       " 'MAPK1': -0.10852994850595,\n",
       " 'CBARP': -0.12358095034195,\n",
       " 'KLF1_COL2A1': -0.363709455911,\n",
       " 'PTPN12_OSR2': -0.09966803018492501,\n",
       " 'IRF1': -0.13037393694340002,\n",
       " 'TMSB4X_BAK1': -0.25923676010175,\n",
       " 'BPGM_SAMD1': -0.32069363151175,\n",
       " 'IKZF3': -0.437648444613,\n",
       " 'ETS2_CEBPE': -0.35748096818724995,\n",
       " 'POU3F2_FOXL2': -0.51104687391575,\n",
       " 'HOXB9': -0.168293996892,\n",
       " 'DUSP9_PRTG': -0.532375717973,\n",
       " 'HOXC13': -0.4631137881290001,\n",
       " 'MAPK1_IKZF3': -0.40518531811725,\n",
       " 'LHX1_ELMSAN1': -0.22926760295975,\n",
       " 'CKS1B': -0.163245635104,\n",
       " 'CLDN6': -0.256750064722,\n",
       " 'FOXA3': -0.23689741745300005,\n",
       " 'KIF18B_KIF2C': -0.48917903307425,\n",
       " 'SAMD1': -0.244883420375,\n",
       " 'BCL2L11_TGFBR2': -0.302023089771,\n",
       " 'AHR_KLF1': -0.0371926420608,\n",
       " 'COL1A1': -0.450200220563,\n",
       " 'CEBPB_CEBPA': -0.697688080694,\n",
       " 'PTPN12_UBASH3A': -0.26115362498825,\n",
       " 'FOXF1': -0.21638793764800002,\n",
       " 'ZBTB1': -0.14854970906729997,\n",
       " 'FEV_MAP7D1': -0.5175536082675001,\n",
       " 'PRTG': -0.3032056229015,\n",
       " 'PLK4': -0.12574127272354998,\n",
       " 'BPGM': -0.118120618938,\n",
       " 'ARRDC3': -0.12351600753855001,\n",
       " 'ETS2_CNN1': -0.14126560464475,\n",
       " 'FOXL2NB': -0.5039676249449999,\n",
       " 'CNN1_MAPK1': -0.134848983186325,\n",
       " 'FOXL2_MEIS1': -0.434625726238,\n",
       " 'LYL1': -0.07787328559045,\n",
       " 'MAP2K6': 0.07651905052614999,\n",
       " 'SGK1': -0.1251595997719,\n",
       " 'MAPK1_TGFBR2': -0.10899354845130002,\n",
       " 'FOXL2': -0.254307044529,\n",
       " 'RP5-862P8.2': -0.2775915045765,\n",
       " 'FOSB_CEBPE': -0.5924106996415001,\n",
       " 'PTPN12_PTPN9': -0.235451481956,\n",
       " 'CEBPA': -0.6560022795939999,\n",
       " 'HNF4A': -0.366638290686,\n",
       " 'FOSB_CEBPB': -0.44030599284275,\n",
       " 'SET_KLF1': -0.104144328530055,\n",
       " 'PTPN12_SNAI1': -0.240225797141,\n",
       " 'KMT2A': -0.08582617092440001,\n",
       " 'BCL2L11_BAK1': -0.29772293065850003,\n",
       " 'CNN1_UBASH3A': -0.43529224454975,\n",
       " 'MAP2K6_ELMSAN1': 0.079607651149675,\n",
       " 'IGDCC3': -0.273535983222,\n",
       " 'ISL2': -0.14389327784199998,\n",
       " 'KLF1_CEBPA': -0.32486405448850003,\n",
       " 'TGFBR2_IGDCC3': -0.34145912107925,\n",
       " 'SAMD1_ZBTB1': -0.34455414528300005,\n",
       " 'TMSB4X': -0.04309176516685,\n",
       " 'FOXA3_HOXB9': -0.47278851450175,\n",
       " 'KIF2C': -0.1030815738074,\n",
       " 'IRF1_SET': -0.46257177710924996,\n",
       " 'MAP2K3_ELMSAN1': 0.05842910542455,\n",
       " 'CSRNP1': 0.09034548834045,\n",
       " 'ARID1A': -0.310981635368,\n",
       " 'CEBPE_CEBPA': -0.6461529085665001,\n",
       " 'CNNM4': -0.134964598495,\n",
       " 'UBASH3A': -0.08091021613800001,\n",
       " 'NCL': -0.09550667636320001,\n",
       " 'CEBPE_CNN1': -0.41476283869275005,\n",
       " 'ZC3HAV1_HOXC13': -0.2194917560845,\n",
       " 'CBL_CNN1': -0.4760244254945,\n",
       " 'ZBTB10_PTPN12': -0.35248269255750003,\n",
       " 'CBL_UBASH3B': -0.46021333504875,\n",
       " 'FOXF1_HOXB9': -0.4542537164605,\n",
       " 'UBASH3B_CNN1': -0.46969689868275,\n",
       " 'CEBPB_PTPN12': -0.281081657578,\n",
       " 'BCL2L11': -0.1088024994419,\n",
       " 'ZC3HAV1': 0.10189730819795,\n",
       " 'OSR2': -0.1371134334247,\n",
       " 'SPI1': -0.44790982545599994,\n",
       " 'CEBPB_MAPK1': -0.35197929207725004,\n",
       " 'FOSB_UBASH3B': -0.171282793036,\n",
       " 'ETS2_MAPK1': -0.25254865100775004,\n",
       " 'SNAI1_UBASH3B': -0.306039733551,\n",
       " 'STIL': -0.238212718392,\n",
       " 'DUSP9_IGDCC3': -0.5808497899689999,\n",
       " 'CEBPB': -0.3111930909985,\n",
       " 'CBL_PTPN12': -0.2829011403155,\n",
       " 'CEBPB_OSR2': -0.44161539517425,\n",
       " 'ATL1': -0.41319653353299995,\n",
       " 'CEBPE_PTPN12': -0.37482598335725004,\n",
       " 'SGK1_S1PR2': -0.23007611662175004,\n",
       " 'NIT1': -0.428724726734,\n",
       " 'DUSP9_KLF1': -0.33877281767025,\n",
       " 'CDKN1B': -0.258314552782,\n",
       " 'SAMD1_UBASH3B': -0.4291751116305,\n",
       " 'TGFBR2': -0.045938259845500005,\n",
       " 'FEV_ISL2': -0.430086756587,\n",
       " 'KLF1_CLDN6': -0.25966140628185,\n",
       " 'JUN': -0.2641945740155,\n",
       " 'POU3F2_CBFA2T3': -0.4959015545995,\n",
       " 'FOXA1_HOXB9': -0.5135147605265,\n",
       " 'SAMD1_TGFBR2': -0.414212354564,\n",
       " 'ZBTB10': -0.411267833068,\n",
       " 'CEBPE_SPI1': -0.6099028714535,\n",
       " 'PTPN13': -0.17202191333119998,\n",
       " 'CBL_TGFBR2': -0.29466901025625003,\n",
       " 'SGK1_TBX2': -0.1334651427488,\n",
       " 'FOXA1_FOXL2': -0.4994022516322501,\n",
       " 'ETS2_MAP7D1': -0.33895784440725,\n",
       " 'FOXF1_FOXL2': -0.48806925231725,\n",
       " 'ETS2_PRTG': -0.36016559864799996,\n",
       " 'AHR_FEV': -0.5770883293644999,\n",
       " 'KLF1_TGFBR2': 0.035693613792569995,\n",
       " 'FEV_CBFA2T3': -0.47951050864699996,\n",
       " 'ETS2_IKZF3': -0.4234214794395,\n",
       " 'SLC38A2': 0.02341059276445,\n",
       " 'PTPN9': -0.0936892065132,\n",
       " 'LYL1_CEBPB': -0.224637457399525,\n",
       " 'PTPN12_ZBTB25': -0.19684640048149998,\n",
       " 'DUSP9_SNAI1': -0.6739911575485,\n",
       " 'SNAI1': -0.24739262825,\n",
       " 'HOXA13': -0.5265396145065,\n",
       " 'RHOXF2B_ZBTB25': -0.25916956591699997,\n",
       " 'CITED1': -0.1955471598244,\n",
       " 'FOSB_IKZF3': -0.34291669354225,\n",
       " 'TGFBR2_PRTG': -0.35645808291425,\n",
       " 'RHOXF2B_SET': -0.31119641729249997,\n",
       " 'PRDM1': -0.450554460754,\n",
       " 'FOSB_PTPN12': -0.135078050315,\n",
       " 'SAMD1_PTPN12': -0.3558263008815,\n",
       " 'HK2': -0.0905306700284,\n",
       " 'FOSB_OSR2': -0.3358835503705,\n",
       " 'FOXL2_HOXB9': -0.43896819482474997,\n",
       " 'ZBTB10_ELMSAN1': -0.47625255896075,\n",
       " 'JUN_CEBPB': -0.5278567517585,\n",
       " 'BPGM_ZBTB1': -0.24770733766,\n",
       " 'ZBTB10_SNAI1': -0.6286478170400001,\n",
       " 'CEBPE_CEBPB': -0.5836774298777501,\n",
       " 'PRDM1_CBFA2T3': -0.5939339494575,\n",
       " 'FOXA3_FOXF1': -0.4661348054985,\n",
       " 'TGFBR2_CBARP': -0.27623554173250003,\n",
       " 'FOXA3_FOXL2': -0.46282487392575006,\n",
       " 'CDKN1C_CDKN1B': -0.4011938697925,\n",
       " 'ZC3HAV1_CEBPA': -0.5455495795324999,\n",
       " 'KIF18B': -0.2182855612705,\n",
       " 'CDKN1C_CDKN1A': -0.39401858153025,\n",
       " 'EGR1': -0.1221391546364,\n",
       " 'ZBTB10_DLX2': -0.6068787342337499,\n",
       " 'FOXA1_FOXF1': -0.5170777869105,\n",
       " 'PLK4_STIL': -0.3780707175525,\n",
       " 'CBL_UBASH3A': -0.40747348916475,\n",
       " 'SNAI1_DLX2': -0.5836690383425001,\n",
       " 'IGDCC3_PRTG': -0.46329928483225,\n",
       " 'CDKN1C': -0.3201557995885,\n",
       " 'CDKN1B_CDKN1A': -0.34752093740050005,\n",
       " 'FOXL2NB_FOXL2': -0.51016080988}"
      ]
     },
     "execution_count": 10,
     "metadata": {},
     "output_type": "execute_result"
    }
   ],
   "source": [
    "fitness_data['fitness_mapper_gene']"
   ]
  },
  {
   "cell_type": "code",
   "execution_count": 11,
   "id": "48fc460c",
   "metadata": {},
   "outputs": [],
   "source": [
    "with open('./data/GI_data.pkl', 'rb') as f:\n",
    "    data = pickle.load(f)"
   ]
  },
  {
   "cell_type": "code",
   "execution_count": 12,
   "metadata": {},
   "outputs": [],
   "source": [
    "class GI_expt():\n",
    "    # TODO get rid of hold out genes\n",
    "    def __init__(self, raw=False, pick_genes = None, set_train = None):\n",
    "        # sample: matrix sampling percentage\n",
    "        # seed: sampling seed,\n",
    "        # sampled_data: sampled indices from upper traingle matrix\n",
    "        # test: matrix values to be predicted\n",
    "        # train: observed matrix values used for training, \n",
    "        # delta: deviation from expectation as inferred using \n",
    "        #        a regression model trained on sampled_data (corresponds to sampled_data)\n",
    "        # delta_tot: delta values computed for all matrix values\n",
    "        # y_tot: Full true matrix (raw fitness values)\n",
    "        # raws: Sampled raw fitness values (corresponds to sampled_data)\n",
    "        # transformer: regression model used to determine expected fitness values\n",
    "        \n",
    "\n",
    "        with open('./data/GI_data.pkl', 'rb') as f:\n",
    "            self.data = pickle.load(f)\n",
    "        self.raw = raw\n",
    "        self.pick_genes = pick_genes\n",
    "        self.set_train = set_train\n",
    "\n",
    "    def pre_process(self, sample, seed):\n",
    "        itr_data = {}\n",
    "        itr_data['sample'] = sample\n",
    "        itr_data['seed'] = seed\n",
    "\n",
    "        # Randomly sample from the fitness matrix\n",
    "        if self.set_train is not None:\n",
    "            itr_data['sampled_data'] = self.set_train\n",
    "        elif self.pick_genes is None:\n",
    "            itr_data['sampled_data'] = \\\n",
    "               upper_triangle(self.data['good_phen'], k=0).sample(\n",
    "               frac=float(sample) / 100., replace=False, random_state=seed).index\n",
    "        else:\n",
    "            itr_data['sampled_data'] = \\\n",
    "                upper_triangle(self.data['good_phen'].iloc[self.pick_genes,\n",
    "                                                    self.pick_genes]).index\n",
    "\n",
    "        # Set up masked delta matrix for performing matrix completion\n",
    "        itr_data['delta'], itr_data['test'], \\\n",
    "        itr_data['train'], itr_data['delta_tot'], \\\n",
    "        itr_data['X_tot'], itr_data['y_tot'], itr_data['transformer'], \\\n",
    "        itr_data['raws'] = \\\n",
    "            get_masked_delta_matrix(self.data['good_phen'],\n",
    "                                    itr_data['sampled_data'],\n",
    "                                    self.data['fitness_mapper_gene'],\n",
    "                                    self.data['good_genes'])\n",
    "\n",
    "        return itr_data\n",
    "\n",
    "\n",
    "def get_masked_delta_matrix(data, sampling, phen_mapper, good_genes):\n",
    "    masked_data, mask = get_masked_data(data, sampling)\n",
    "\n",
    "    upper_masked_data = upper_triangle(masked_data)\n",
    "    predicted = upper_masked_data[upper_masked_data == 0].index\n",
    "    given = upper_masked_data[upper_masked_data != 0].index\n",
    "\n",
    "    delta_tot, X, X_tot, y, y_tot, transformer, raws = get_deltas(data, masked_data, phen_mapper, good_genes)\n",
    "    delta, _ = get_masked_data(delta_tot, sampling)\n",
    "    raws, _ = get_masked_data(raws, sampling)\n",
    "\n",
    "    return delta, predicted, given, delta_tot, X_tot, y_tot, transformer, raws\n",
    "\n",
    "def get_deltas(source_data, sampled_data, phen_mapper, good_genes):\n",
    "    # this is the routine that fits a quadratic model to observed fitness measurements and returns\n",
    "    # the deviations from the expectation given by that model (the \"deltas\")\n",
    "    y = sampled_data.stack()\n",
    "    y = y[y != 0]\n",
    "\n",
    "    X = np.concatenate([y.index.get_level_values(0).map(lambda x: phen_mapper[x]).values[:, np.newaxis],\n",
    "                        y.index.get_level_values(1).map(lambda x: phen_mapper[x]).values[:, np.newaxis]], axis=1)\n",
    "\n",
    "    y_tot = source_data.loc[good_genes, good_genes].stack()\n",
    "    X_tot = np.concatenate([y_tot.index.get_level_values(0).map(lambda x: phen_mapper[x]).values[:, np.newaxis],\n",
    "                            y_tot.index.get_level_values(1).map(lambda x: phen_mapper[x]).values[:, np.newaxis]],\n",
    "                           axis=1)\n",
    "\n",
    "    transformer = PolynomialFeatures()\n",
    "    model = make_pipeline(PolynomialFeatures(), LinearRegression())\n",
    "    model.fit(X, y)\n",
    "\n",
    "    delta = pd.Series(y_tot - model.predict(X_tot), index=y_tot.index)\n",
    "    raws = pd.Series(y_tot, index=y_tot.index).unstack()\n",
    "    delta = delta.unstack()\n",
    "\n",
    "    return delta, X, X_tot, y, y_tot, model, raws\n",
    "\n",
    "def upper_triangle(M, k=1):\n",
    "    \"\"\" Copyright (C) 2019  Thomas Norman\n",
    "    Return the upper triangular part of a matrix in stacked format (i.e. as a vector)\n",
    "    \"\"\"\n",
    "    keep = np.triu(np.ones(M.shape), k=k).astype('bool').reshape(M.size)\n",
    "    return M.stack(dropna=False).loc[keep]\n",
    "\n",
    "def get_masked_data(df, ind, mean_normalize=False):\n",
    "    masked_data = df.copy().values\n",
    "    mask = pd.DataFrame(0, index=df.index, columns=df.columns)\n",
    "\n",
    "    for gene1, gene2 in ind:\n",
    "        # only include genes present in df\n",
    "        if gene1 in mask.index and gene2 in mask.columns:\n",
    "            mask.loc[gene1, gene2] = 1\n",
    "\n",
    "        # assume DataFrame is symmetric\n",
    "    mask = mask + mask.T\n",
    "    mask = (mask != 0).values\n",
    "    masked_data[~mask] = 0\n",
    "    masked_data_df = pd.DataFrame(masked_data, index=df.index, columns=df.columns)\n",
    "\n",
    "    # whether to center the observed entries such that the overall mean is 0\n",
    "    if mean_normalize:\n",
    "        masked_data_df = masked_data_df.stack()\n",
    "        offset = masked_data_df[masked_data_df != 0]\n",
    "        offset = offset.mean()\n",
    "        masked_data_df[masked_data_df != 0] = masked_data_df[masked_data_df != 0] - offset\n",
    "        print(offset)\n",
    "        masked_data_df = masked_data_df.unstack()\n",
    "\n",
    "    return masked_data_df, mask"
   ]
  },
  {
   "cell_type": "code",
   "execution_count": 13,
   "id": "596024b6",
   "metadata": {},
   "outputs": [],
   "source": [
    "# load train gene split used for in-house models \n",
    "# train_split = pd.read_csv('../../data/pert_norman_data_splits/norman_train_split.csv')\n",
    "# train_genes = pd.MultiIndex.from_tuples(zip(train_split['Gene1'], train_split['Gene2']))"
   ]
  },
  {
   "cell_type": "code",
   "execution_count": 14,
   "metadata": {},
   "outputs": [
    {
     "name": "stderr",
     "output_type": "stream",
     "text": [
      "100%|██████████| 4278/4278 [00:23<00:00, 178.32it/s]\n"
     ]
    },
    {
     "name": "stdout",
     "output_type": "stream",
     "text": [
      "Start Training...\n"
     ]
    },
    {
     "name": "stderr",
     "output_type": "stream",
     "text": [
      "100%|██████████| 108/108 [00:13<00:00,  8.03it/s]\n",
      "100%|██████████| 7/7 [00:00<00:00, 19.60it/s]\n",
      "100%|██████████| 2334/2334 [02:23<00:00, 16.27it/s]\n"
     ]
    },
    {
     "name": "stdout",
     "output_type": "stream",
     "text": [
      "0.3716477405523399\n"
     ]
    },
    {
     "name": "stderr",
     "output_type": "stream",
     "text": [
      "100%|██████████| 4278/4278 [00:24<00:00, 176.02it/s]\n"
     ]
    },
    {
     "name": "stdout",
     "output_type": "stream",
     "text": [
      "Start Training...\n"
     ]
    },
    {
     "name": "stderr",
     "output_type": "stream",
     "text": [
      "100%|██████████| 156/156 [00:25<00:00,  6.18it/s]\n",
      "100%|██████████| 12/12 [00:00<00:00, 18.54it/s]\n",
      "100%|██████████| 2280/2280 [02:08<00:00, 17.73it/s]\n"
     ]
    },
    {
     "name": "stdout",
     "output_type": "stream",
     "text": [
      "0.07388217964964612\n"
     ]
    },
    {
     "name": "stderr",
     "output_type": "stream",
     "text": [
      "100%|██████████| 4278/4278 [00:24<00:00, 175.03it/s]\n"
     ]
    },
    {
     "name": "stdout",
     "output_type": "stream",
     "text": [
      "Start Training...\n"
     ]
    },
    {
     "name": "stderr",
     "output_type": "stream",
     "text": [
      " 87%|████████▋ | 202/231 [00:28<00:04,  6.86it/s]"
     ]
    },
    {
     "name": "stdout",
     "output_type": "stream",
     "text": [
      "Epoch 1 Step 201 Train Loss: 0.1671\n"
     ]
    },
    {
     "name": "stderr",
     "output_type": "stream",
     "text": [
      "100%|██████████| 231/231 [00:32<00:00,  7.07it/s]\n",
      "100%|██████████| 20/20 [00:01<00:00, 16.80it/s]\n",
      "100%|██████████| 2196/2196 [02:00<00:00, 18.25it/s]\n"
     ]
    },
    {
     "name": "stdout",
     "output_type": "stream",
     "text": [
      "0.13647683805746386\n"
     ]
    },
    {
     "name": "stderr",
     "output_type": "stream",
     "text": [
      "100%|██████████| 4278/4278 [00:22<00:00, 186.60it/s]\n"
     ]
    },
    {
     "name": "stdout",
     "output_type": "stream",
     "text": [
      "Start Training...\n"
     ]
    },
    {
     "name": "stderr",
     "output_type": "stream",
     "text": [
      " 66%|██████▌   | 202/305 [00:32<00:14,  6.95it/s]"
     ]
    },
    {
     "name": "stdout",
     "output_type": "stream",
     "text": [
      "Epoch 1 Step 201 Train Loss: 0.0411\n"
     ]
    },
    {
     "name": "stderr",
     "output_type": "stream",
     "text": [
      "100%|██████████| 305/305 [00:49<00:00,  6.12it/s]\n",
      "100%|██████████| 29/29 [00:01<00:00, 18.31it/s]\n",
      "100%|██████████| 2114/2114 [01:58<00:00, 17.83it/s]\n"
     ]
    },
    {
     "name": "stdout",
     "output_type": "stream",
     "text": [
      "0.0431070358138228\n"
     ]
    },
    {
     "name": "stderr",
     "output_type": "stream",
     "text": [
      "100%|██████████| 4278/4278 [00:23<00:00, 183.67it/s]\n"
     ]
    },
    {
     "name": "stdout",
     "output_type": "stream",
     "text": [
      "Start Training...\n"
     ]
    },
    {
     "name": "stderr",
     "output_type": "stream",
     "text": [
      " 47%|████▋     | 201/425 [00:34<00:39,  5.73it/s]"
     ]
    },
    {
     "name": "stdout",
     "output_type": "stream",
     "text": [
      "Epoch 1 Step 201 Train Loss: 0.0025\n"
     ]
    },
    {
     "name": "stderr",
     "output_type": "stream",
     "text": [
      " 95%|█████████▍| 402/425 [01:08<00:03,  6.23it/s]"
     ]
    },
    {
     "name": "stdout",
     "output_type": "stream",
     "text": [
      "Epoch 1 Step 401 Train Loss: 0.0028\n"
     ]
    },
    {
     "name": "stderr",
     "output_type": "stream",
     "text": [
      "100%|██████████| 425/425 [01:12<00:00,  5.89it/s]\n",
      "100%|██████████| 45/45 [00:03<00:00, 14.21it/s]\n",
      "100%|██████████| 1978/1978 [01:59<00:00, 16.56it/s]\n"
     ]
    },
    {
     "name": "stdout",
     "output_type": "stream",
     "text": [
      "0.11286700005390919\n"
     ]
    },
    {
     "name": "stderr",
     "output_type": "stream",
     "text": [
      "100%|██████████| 4278/4278 [00:23<00:00, 183.90it/s]\n"
     ]
    },
    {
     "name": "stdout",
     "output_type": "stream",
     "text": [
      "Start Training...\n"
     ]
    },
    {
     "name": "stderr",
     "output_type": "stream",
     "text": [
      " 37%|███▋      | 202/551 [00:25<00:43,  7.99it/s]"
     ]
    },
    {
     "name": "stdout",
     "output_type": "stream",
     "text": [
      "Epoch 1 Step 201 Train Loss: 0.0033\n"
     ]
    },
    {
     "name": "stderr",
     "output_type": "stream",
     "text": [
      " 73%|███████▎  | 402/551 [00:59<00:24,  6.00it/s]"
     ]
    },
    {
     "name": "stdout",
     "output_type": "stream",
     "text": [
      "Epoch 1 Step 401 Train Loss: 0.0060\n"
     ]
    },
    {
     "name": "stderr",
     "output_type": "stream",
     "text": [
      "100%|██████████| 551/551 [01:25<00:00,  6.43it/s]\n",
      "100%|██████████| 57/57 [00:04<00:00, 13.47it/s]\n",
      "100%|██████████| 1840/1840 [02:04<00:00, 14.78it/s]\n"
     ]
    },
    {
     "name": "stdout",
     "output_type": "stream",
     "text": [
      "0.028627431005566806\n"
     ]
    },
    {
     "name": "stderr",
     "output_type": "stream",
     "text": [
      "100%|██████████| 4278/4278 [00:23<00:00, 184.25it/s]\n"
     ]
    },
    {
     "name": "stdout",
     "output_type": "stream",
     "text": [
      "Start Training...\n"
     ]
    },
    {
     "name": "stderr",
     "output_type": "stream",
     "text": [
      " 30%|██▉       | 202/676 [00:28<01:08,  6.94it/s]"
     ]
    },
    {
     "name": "stdout",
     "output_type": "stream",
     "text": [
      "Epoch 1 Step 201 Train Loss: 0.0038\n"
     ]
    },
    {
     "name": "stderr",
     "output_type": "stream",
     "text": [
      " 59%|█████▉    | 402/676 [00:56<00:32,  8.44it/s]"
     ]
    },
    {
     "name": "stdout",
     "output_type": "stream",
     "text": [
      "Epoch 1 Step 401 Train Loss: 0.0067\n"
     ]
    },
    {
     "name": "stderr",
     "output_type": "stream",
     "text": [
      " 89%|████████▉ | 602/676 [01:21<00:09,  7.66it/s]"
     ]
    },
    {
     "name": "stdout",
     "output_type": "stream",
     "text": [
      "Epoch 1 Step 601 Train Loss: 0.0028\n"
     ]
    },
    {
     "name": "stderr",
     "output_type": "stream",
     "text": [
      "100%|██████████| 676/676 [01:30<00:00,  7.48it/s]\n",
      "100%|██████████| 72/72 [00:03<00:00, 19.27it/s]\n",
      "100%|██████████| 1700/1700 [01:36<00:00, 17.58it/s]\n"
     ]
    },
    {
     "name": "stdout",
     "output_type": "stream",
     "text": [
      "0.01526049331711069\n"
     ]
    },
    {
     "name": "stderr",
     "output_type": "stream",
     "text": [
      "100%|██████████| 4278/4278 [00:23<00:00, 184.33it/s]\n"
     ]
    },
    {
     "name": "stdout",
     "output_type": "stream",
     "text": [
      "Start Training...\n"
     ]
    },
    {
     "name": "stderr",
     "output_type": "stream",
     "text": [
      " 25%|██▌       | 202/806 [00:31<01:30,  6.65it/s]"
     ]
    },
    {
     "name": "stdout",
     "output_type": "stream",
     "text": [
      "Epoch 1 Step 201 Train Loss: 0.0086\n"
     ]
    },
    {
     "name": "stderr",
     "output_type": "stream",
     "text": [
      " 50%|████▉     | 402/806 [00:58<00:47,  8.44it/s]"
     ]
    },
    {
     "name": "stdout",
     "output_type": "stream",
     "text": [
      "Epoch 1 Step 401 Train Loss: 0.0040\n"
     ]
    },
    {
     "name": "stderr",
     "output_type": "stream",
     "text": [
      " 75%|███████▍  | 602/806 [01:23<00:24,  8.33it/s]"
     ]
    },
    {
     "name": "stdout",
     "output_type": "stream",
     "text": [
      "Epoch 1 Step 601 Train Loss: 0.0013\n"
     ]
    },
    {
     "name": "stderr",
     "output_type": "stream",
     "text": [
      "100%|█████████▉| 802/806 [01:47<00:00,  8.88it/s]"
     ]
    },
    {
     "name": "stdout",
     "output_type": "stream",
     "text": [
      "Epoch 1 Step 801 Train Loss: 0.0021\n"
     ]
    },
    {
     "name": "stderr",
     "output_type": "stream",
     "text": [
      "100%|██████████| 806/806 [01:47<00:00,  7.48it/s]\n",
      "100%|██████████| 80/80 [00:04<00:00, 16.85it/s]\n",
      "100%|██████████| 1561/1561 [01:29<00:00, 17.48it/s]\n"
     ]
    },
    {
     "name": "stdout",
     "output_type": "stream",
     "text": [
      "0.015507540074182874\n"
     ]
    },
    {
     "name": "stderr",
     "output_type": "stream",
     "text": [
      "100%|██████████| 4278/4278 [00:23<00:00, 183.27it/s]\n"
     ]
    },
    {
     "name": "stdout",
     "output_type": "stream",
     "text": [
      "Start Training...\n"
     ]
    },
    {
     "name": "stderr",
     "output_type": "stream",
     "text": [
      "100%|██████████| 105/105 [00:15<00:00,  6.87it/s]\n",
      "100%|██████████| 6/6 [00:00<00:00, 15.59it/s]\n",
      "100%|██████████| 2337/2337 [02:38<00:00, 14.74it/s]\n"
     ]
    },
    {
     "name": "stdout",
     "output_type": "stream",
     "text": [
      "0.010803047745543535\n"
     ]
    },
    {
     "name": "stderr",
     "output_type": "stream",
     "text": [
      "100%|██████████| 4278/4278 [00:23<00:00, 183.96it/s]\n"
     ]
    },
    {
     "name": "stdout",
     "output_type": "stream",
     "text": [
      "Start Training...\n"
     ]
    },
    {
     "name": "stderr",
     "output_type": "stream",
     "text": [
      "100%|██████████| 155/155 [00:19<00:00,  7.87it/s]\n",
      "100%|██████████| 12/12 [00:00<00:00, 20.35it/s]\n",
      "100%|██████████| 2282/2282 [02:30<00:00, 15.15it/s]\n"
     ]
    },
    {
     "name": "stdout",
     "output_type": "stream",
     "text": [
      "0.006622658085375286\n"
     ]
    },
    {
     "name": "stderr",
     "output_type": "stream",
     "text": [
      "100%|██████████| 4278/4278 [00:22<00:00, 186.47it/s]\n"
     ]
    },
    {
     "name": "stdout",
     "output_type": "stream",
     "text": [
      "Start Training...\n"
     ]
    },
    {
     "name": "stderr",
     "output_type": "stream",
     "text": [
      " 88%|████████▊ | 202/230 [00:33<00:04,  6.03it/s]"
     ]
    },
    {
     "name": "stdout",
     "output_type": "stream",
     "text": [
      "Epoch 1 Step 201 Train Loss: 0.0029\n"
     ]
    },
    {
     "name": "stderr",
     "output_type": "stream",
     "text": [
      "100%|██████████| 230/230 [00:37<00:00,  6.16it/s]\n",
      "100%|██████████| 20/20 [00:00<00:00, 23.44it/s]\n",
      "100%|██████████| 2198/2198 [02:15<00:00, 16.26it/s]\n"
     ]
    },
    {
     "name": "stdout",
     "output_type": "stream",
     "text": [
      "0.07650427686873973\n"
     ]
    },
    {
     "name": "stderr",
     "output_type": "stream",
     "text": [
      "100%|██████████| 4278/4278 [00:25<00:00, 170.40it/s]\n"
     ]
    },
    {
     "name": "stdout",
     "output_type": "stream",
     "text": [
      "Start Training...\n"
     ]
    },
    {
     "name": "stderr",
     "output_type": "stream",
     "text": [
      " 66%|██████▌   | 202/306 [00:26<00:13,  7.59it/s]"
     ]
    },
    {
     "name": "stdout",
     "output_type": "stream",
     "text": [
      "Epoch 1 Step 201 Train Loss: 0.0039\n"
     ]
    },
    {
     "name": "stderr",
     "output_type": "stream",
     "text": [
      "100%|██████████| 306/306 [00:39<00:00,  7.81it/s]\n",
      "100%|██████████| 29/29 [00:01<00:00, 19.97it/s]\n",
      "100%|██████████| 2113/2113 [02:55<00:00, 12.01it/s]\n"
     ]
    },
    {
     "name": "stdout",
     "output_type": "stream",
     "text": [
      "0.011045461451448404\n"
     ]
    },
    {
     "name": "stderr",
     "output_type": "stream",
     "text": [
      "100%|██████████| 4278/4278 [00:23<00:00, 182.53it/s]\n"
     ]
    },
    {
     "name": "stdout",
     "output_type": "stream",
     "text": [
      "Start Training...\n"
     ]
    },
    {
     "name": "stderr",
     "output_type": "stream",
     "text": [
      " 47%|████▋     | 202/429 [00:25<00:29,  7.73it/s]"
     ]
    },
    {
     "name": "stdout",
     "output_type": "stream",
     "text": [
      "Epoch 1 Step 201 Train Loss: 0.0021\n"
     ]
    },
    {
     "name": "stderr",
     "output_type": "stream",
     "text": [
      " 94%|█████████▎| 402/429 [00:51<00:03,  8.28it/s]"
     ]
    },
    {
     "name": "stdout",
     "output_type": "stream",
     "text": [
      "Epoch 1 Step 401 Train Loss: 0.0023\n"
     ]
    },
    {
     "name": "stderr",
     "output_type": "stream",
     "text": [
      "100%|██████████| 429/429 [00:54<00:00,  7.84it/s]\n",
      "100%|██████████| 44/44 [00:02<00:00, 19.07it/s]\n",
      "100%|██████████| 1975/1975 [02:14<00:00, 14.73it/s]\n"
     ]
    },
    {
     "name": "stdout",
     "output_type": "stream",
     "text": [
      "0.014424346249830926\n"
     ]
    },
    {
     "name": "stderr",
     "output_type": "stream",
     "text": [
      "100%|██████████| 4278/4278 [00:23<00:00, 183.06it/s]\n"
     ]
    },
    {
     "name": "stdout",
     "output_type": "stream",
     "text": [
      "Start Training...\n"
     ]
    },
    {
     "name": "stderr",
     "output_type": "stream",
     "text": [
      " 36%|███▋      | 202/555 [00:19<00:35,  9.91it/s]"
     ]
    },
    {
     "name": "stdout",
     "output_type": "stream",
     "text": [
      "Epoch 1 Step 201 Train Loss: 0.0042\n"
     ]
    },
    {
     "name": "stderr",
     "output_type": "stream",
     "text": [
      " 72%|███████▏  | 401/555 [00:39<00:15, 10.25it/s]"
     ]
    },
    {
     "name": "stdout",
     "output_type": "stream",
     "text": [
      "Epoch 1 Step 401 Train Loss: 0.0039\n"
     ]
    },
    {
     "name": "stderr",
     "output_type": "stream",
     "text": [
      "100%|██████████| 555/555 [00:54<00:00, 10.24it/s]\n",
      "100%|██████████| 57/57 [00:02<00:00, 24.50it/s]\n",
      "100%|██████████| 1836/1836 [01:08<00:00, 26.73it/s]\n"
     ]
    },
    {
     "name": "stdout",
     "output_type": "stream",
     "text": [
      "0.002827929382840464\n"
     ]
    },
    {
     "name": "stderr",
     "output_type": "stream",
     "text": [
      "100%|██████████| 4278/4278 [00:23<00:00, 183.56it/s]\n"
     ]
    },
    {
     "name": "stdout",
     "output_type": "stream",
     "text": [
      "Start Training...\n"
     ]
    },
    {
     "name": "stderr",
     "output_type": "stream",
     "text": [
      " 30%|██▉       | 201/680 [00:21<00:46, 10.35it/s]"
     ]
    },
    {
     "name": "stdout",
     "output_type": "stream",
     "text": [
      "Epoch 1 Step 201 Train Loss: 0.0039\n"
     ]
    },
    {
     "name": "stderr",
     "output_type": "stream",
     "text": [
      " 59%|█████▉    | 403/680 [00:40<00:27, 10.20it/s]"
     ]
    },
    {
     "name": "stdout",
     "output_type": "stream",
     "text": [
      "Epoch 1 Step 401 Train Loss: 0.0053\n"
     ]
    },
    {
     "name": "stderr",
     "output_type": "stream",
     "text": [
      " 89%|████████▊ | 602/680 [01:00<00:07, 10.11it/s]"
     ]
    },
    {
     "name": "stdout",
     "output_type": "stream",
     "text": [
      "Epoch 1 Step 601 Train Loss: 0.0060\n"
     ]
    },
    {
     "name": "stderr",
     "output_type": "stream",
     "text": [
      "100%|██████████| 680/680 [01:07<00:00, 10.02it/s]\n",
      "100%|██████████| 71/71 [00:02<00:00, 24.05it/s]\n",
      "100%|██████████| 1697/1697 [00:51<00:00, 32.66it/s]\n"
     ]
    },
    {
     "name": "stdout",
     "output_type": "stream",
     "text": [
      "0.03509370836878724\n"
     ]
    },
    {
     "name": "stderr",
     "output_type": "stream",
     "text": [
      "100%|██████████| 4278/4278 [00:23<00:00, 184.33it/s]\n"
     ]
    },
    {
     "name": "stdout",
     "output_type": "stream",
     "text": [
      "Start Training...\n"
     ]
    },
    {
     "name": "stderr",
     "output_type": "stream",
     "text": [
      " 25%|██▌       | 202/807 [00:22<01:07,  8.99it/s]"
     ]
    },
    {
     "name": "stdout",
     "output_type": "stream",
     "text": [
      "Epoch 1 Step 201 Train Loss: 0.0038\n"
     ]
    },
    {
     "name": "stderr",
     "output_type": "stream",
     "text": [
      " 50%|████▉     | 402/807 [00:43<00:42,  9.46it/s]"
     ]
    },
    {
     "name": "stdout",
     "output_type": "stream",
     "text": [
      "Epoch 1 Step 401 Train Loss: 0.0065\n"
     ]
    },
    {
     "name": "stderr",
     "output_type": "stream",
     "text": [
      " 75%|███████▍  | 602/807 [01:04<00:20,  9.87it/s]"
     ]
    },
    {
     "name": "stdout",
     "output_type": "stream",
     "text": [
      "Epoch 1 Step 601 Train Loss: 0.0039\n"
     ]
    },
    {
     "name": "stderr",
     "output_type": "stream",
     "text": [
      " 99%|█████████▉| 802/807 [01:25<00:00,  8.05it/s]"
     ]
    },
    {
     "name": "stdout",
     "output_type": "stream",
     "text": [
      "Epoch 1 Step 801 Train Loss: 0.0027\n"
     ]
    },
    {
     "name": "stderr",
     "output_type": "stream",
     "text": [
      "100%|██████████| 807/807 [01:26<00:00,  9.33it/s]\n",
      "100%|██████████| 84/84 [00:04<00:00, 20.35it/s]\n",
      "100%|██████████| 1557/1557 [00:58<00:00, 26.73it/s]\n"
     ]
    },
    {
     "name": "stdout",
     "output_type": "stream",
     "text": [
      "0.0030542000265656568\n"
     ]
    },
    {
     "name": "stderr",
     "output_type": "stream",
     "text": [
      "100%|██████████| 4278/4278 [00:23<00:00, 185.02it/s]\n"
     ]
    },
    {
     "name": "stdout",
     "output_type": "stream",
     "text": [
      "Start Training...\n"
     ]
    },
    {
     "name": "stderr",
     "output_type": "stream",
     "text": [
      "100%|██████████| 101/101 [00:09<00:00, 10.44it/s]\n",
      "100%|██████████| 5/5 [00:00<00:00, 24.70it/s]\n",
      "100%|██████████| 2342/2342 [01:00<00:00, 38.81it/s]\n"
     ]
    },
    {
     "name": "stdout",
     "output_type": "stream",
     "text": [
      "0.026231275686893072\n"
     ]
    },
    {
     "name": "stderr",
     "output_type": "stream",
     "text": [
      "100%|██████████| 4278/4278 [00:23<00:00, 183.36it/s]\n"
     ]
    },
    {
     "name": "stdout",
     "output_type": "stream",
     "text": [
      "Start Training...\n"
     ]
    },
    {
     "name": "stderr",
     "output_type": "stream",
     "text": [
      "100%|██████████| 151/151 [00:18<00:00,  8.02it/s]\n",
      "100%|██████████| 12/12 [00:00<00:00, 18.78it/s]\n",
      "100%|██████████| 2285/2285 [01:32<00:00, 24.71it/s]\n"
     ]
    },
    {
     "name": "stdout",
     "output_type": "stream",
     "text": [
      "0.0039994111654917\n"
     ]
    },
    {
     "name": "stderr",
     "output_type": "stream",
     "text": [
      "100%|██████████| 4278/4278 [00:23<00:00, 183.99it/s]\n"
     ]
    },
    {
     "name": "stdout",
     "output_type": "stream",
     "text": [
      "Start Training...\n"
     ]
    },
    {
     "name": "stderr",
     "output_type": "stream",
     "text": [
      " 89%|████████▉ | 202/226 [00:17<00:02, 10.07it/s]"
     ]
    },
    {
     "name": "stdout",
     "output_type": "stream",
     "text": [
      "Epoch 1 Step 201 Train Loss: 0.0016\n"
     ]
    },
    {
     "name": "stderr",
     "output_type": "stream",
     "text": [
      "100%|██████████| 226/226 [00:19<00:00, 11.59it/s]\n",
      "100%|██████████| 21/21 [00:00<00:00, 24.73it/s]\n",
      "100%|██████████| 2201/2201 [01:16<00:00, 28.77it/s]\n"
     ]
    },
    {
     "name": "stdout",
     "output_type": "stream",
     "text": [
      "0.003217691437183711\n"
     ]
    },
    {
     "name": "stderr",
     "output_type": "stream",
     "text": [
      "100%|██████████| 4278/4278 [00:23<00:00, 183.51it/s]\n"
     ]
    },
    {
     "name": "stdout",
     "output_type": "stream",
     "text": [
      "Start Training...\n"
     ]
    },
    {
     "name": "stderr",
     "output_type": "stream",
     "text": [
      " 67%|██████▋   | 202/303 [00:22<00:09, 10.17it/s]"
     ]
    },
    {
     "name": "stdout",
     "output_type": "stream",
     "text": [
      "Epoch 1 Step 201 Train Loss: 0.0050\n"
     ]
    },
    {
     "name": "stderr",
     "output_type": "stream",
     "text": [
      "100%|██████████| 303/303 [00:32<00:00,  9.34it/s]\n",
      "100%|██████████| 28/28 [00:01<00:00, 24.56it/s]\n",
      "100%|██████████| 2117/2117 [01:00<00:00, 34.84it/s]\n"
     ]
    },
    {
     "name": "stdout",
     "output_type": "stream",
     "text": [
      "0.01886939649745382\n"
     ]
    },
    {
     "name": "stderr",
     "output_type": "stream",
     "text": [
      "100%|██████████| 4278/4278 [00:25<00:00, 169.16it/s]\n"
     ]
    },
    {
     "name": "stdout",
     "output_type": "stream",
     "text": [
      "Start Training...\n"
     ]
    },
    {
     "name": "stderr",
     "output_type": "stream",
     "text": [
      " 47%|████▋     | 202/428 [00:20<00:22, 10.02it/s]"
     ]
    },
    {
     "name": "stdout",
     "output_type": "stream",
     "text": [
      "Epoch 1 Step 201 Train Loss: 0.0018\n"
     ]
    },
    {
     "name": "stderr",
     "output_type": "stream",
     "text": [
      " 94%|█████████▍| 402/428 [00:40<00:02, 10.22it/s]"
     ]
    },
    {
     "name": "stdout",
     "output_type": "stream",
     "text": [
      "Epoch 1 Step 401 Train Loss: 0.0047\n"
     ]
    },
    {
     "name": "stderr",
     "output_type": "stream",
     "text": [
      "100%|██████████| 428/428 [00:42<00:00, 10.04it/s]\n",
      "100%|██████████| 43/43 [00:01<00:00, 24.20it/s]\n",
      "100%|██████████| 1977/1977 [01:18<00:00, 25.18it/s]\n"
     ]
    },
    {
     "name": "stdout",
     "output_type": "stream",
     "text": [
      "0.004107563145632759\n"
     ]
    },
    {
     "name": "stderr",
     "output_type": "stream",
     "text": [
      "100%|██████████| 4278/4278 [00:23<00:00, 182.04it/s]\n"
     ]
    },
    {
     "name": "stdout",
     "output_type": "stream",
     "text": [
      "Start Training...\n"
     ]
    },
    {
     "name": "stderr",
     "output_type": "stream",
     "text": [
      " 36%|███▋      | 203/560 [00:21<00:34, 10.22it/s]"
     ]
    },
    {
     "name": "stdout",
     "output_type": "stream",
     "text": [
      "Epoch 1 Step 201 Train Loss: 0.0022\n"
     ]
    },
    {
     "name": "stderr",
     "output_type": "stream",
     "text": [
      " 72%|███████▏  | 402/560 [00:40<00:15, 10.48it/s]"
     ]
    },
    {
     "name": "stdout",
     "output_type": "stream",
     "text": [
      "Epoch 1 Step 401 Train Loss: 0.0022\n"
     ]
    },
    {
     "name": "stderr",
     "output_type": "stream",
     "text": [
      "100%|██████████| 560/560 [00:56<00:00,  9.93it/s]\n",
      "100%|██████████| 54/54 [00:01<00:00, 28.44it/s]\n",
      "100%|██████████| 1834/1834 [01:01<00:00, 30.02it/s]\n"
     ]
    },
    {
     "name": "stdout",
     "output_type": "stream",
     "text": [
      "0.003604601030127456\n"
     ]
    },
    {
     "name": "stderr",
     "output_type": "stream",
     "text": [
      "100%|██████████| 4278/4278 [00:23<00:00, 182.06it/s]\n"
     ]
    },
    {
     "name": "stdout",
     "output_type": "stream",
     "text": [
      "Start Training...\n"
     ]
    },
    {
     "name": "stderr",
     "output_type": "stream",
     "text": [
      " 29%|██▉       | 202/686 [00:20<00:48, 10.00it/s]"
     ]
    },
    {
     "name": "stdout",
     "output_type": "stream",
     "text": [
      "Epoch 1 Step 201 Train Loss: 0.0019\n"
     ]
    },
    {
     "name": "stderr",
     "output_type": "stream",
     "text": [
      " 58%|█████▊    | 401/686 [00:39<00:28, 10.14it/s]"
     ]
    },
    {
     "name": "stdout",
     "output_type": "stream",
     "text": [
      "Epoch 1 Step 401 Train Loss: 0.0045\n"
     ]
    },
    {
     "name": "stderr",
     "output_type": "stream",
     "text": [
      " 88%|████████▊ | 602/686 [01:05<00:12,  6.90it/s]"
     ]
    },
    {
     "name": "stdout",
     "output_type": "stream",
     "text": [
      "Epoch 1 Step 601 Train Loss: 0.0023\n"
     ]
    },
    {
     "name": "stderr",
     "output_type": "stream",
     "text": [
      "100%|██████████| 686/686 [01:16<00:00,  8.93it/s]\n",
      "100%|██████████| 70/70 [00:04<00:00, 16.79it/s]\n",
      "100%|██████████| 1692/1692 [01:10<00:00, 24.15it/s]\n"
     ]
    },
    {
     "name": "stdout",
     "output_type": "stream",
     "text": [
      "0.006433559187904667\n"
     ]
    },
    {
     "name": "stderr",
     "output_type": "stream",
     "text": [
      "100%|██████████| 4278/4278 [00:23<00:00, 181.74it/s]\n"
     ]
    },
    {
     "name": "stdout",
     "output_type": "stream",
     "text": [
      "Start Training...\n"
     ]
    },
    {
     "name": "stderr",
     "output_type": "stream",
     "text": [
      " 25%|██▌       | 202/805 [00:16<00:50, 12.02it/s]"
     ]
    },
    {
     "name": "stdout",
     "output_type": "stream",
     "text": [
      "Epoch 1 Step 201 Train Loss: 0.0049\n"
     ]
    },
    {
     "name": "stderr",
     "output_type": "stream",
     "text": [
      " 50%|████▉     | 402/805 [00:35<00:39, 10.21it/s]"
     ]
    },
    {
     "name": "stdout",
     "output_type": "stream",
     "text": [
      "Epoch 1 Step 401 Train Loss: 0.0036\n"
     ]
    },
    {
     "name": "stderr",
     "output_type": "stream",
     "text": [
      " 75%|███████▍  | 602/805 [00:55<00:19, 10.45it/s]"
     ]
    },
    {
     "name": "stdout",
     "output_type": "stream",
     "text": [
      "Epoch 1 Step 601 Train Loss: 0.0053\n"
     ]
    },
    {
     "name": "stderr",
     "output_type": "stream",
     "text": [
      "100%|█████████▉| 803/805 [01:16<00:00,  9.64it/s]"
     ]
    },
    {
     "name": "stdout",
     "output_type": "stream",
     "text": [
      "Epoch 1 Step 801 Train Loss: 0.0028\n"
     ]
    },
    {
     "name": "stderr",
     "output_type": "stream",
     "text": [
      "100%|██████████| 805/805 [01:16<00:00, 10.53it/s]\n",
      "100%|██████████| 87/87 [00:03<00:00, 23.59it/s]\n",
      "100%|██████████| 1556/1556 [00:45<00:00, 34.20it/s]\n"
     ]
    },
    {
     "name": "stdout",
     "output_type": "stream",
     "text": [
      "0.009747359509842663\n"
     ]
    }
   ],
   "source": [
    "# Run prediction\n",
    "from torch_geometric.data import DataLoader\n",
    "\n",
    "import torch.nn.functional as F\n",
    "import torch.optim as optim\n",
    "import torch.nn as nn\n",
    "from torch.optim.lr_scheduler import StepLR\n",
    "from copy import deepcopy\n",
    "\n",
    "def evaluate(model, loader):\n",
    "    model.eval()\n",
    "    y_all = []\n",
    "    loss_all = []\n",
    "    pert_all = []\n",
    "    y_true_all = []\n",
    "    for step, batch in enumerate(tqdm(loader)):\n",
    "        batch = batch.to(device)\n",
    "        out, y_pred = model(batch)\n",
    "        loss = loss_fct(batch.y.reshape(-1), y_pred.reshape(-1))\n",
    "        loss_all.append(loss.item())\n",
    "        y_all.append(y_pred.detach().cpu().numpy())\n",
    "        pert_all.append(batch.pert)\n",
    "        y_true_all.append(batch.y)\n",
    "    return y_all, loss_all, pert_all, y_true_all\n",
    "\n",
    "def get_dataloader(set2cond, batch_size, test_batch_size = None):\n",
    "    if test_batch_size is None:\n",
    "        test_batch_size = batch_size\n",
    "\n",
    "    cell_graphs = {}\n",
    "    \n",
    "\n",
    "    splits = ['train','val','test']\n",
    "    for i in splits:\n",
    "        cell_graphs[i] = []\n",
    "        for p in set2cond[i]:\n",
    "            if p in all_cell_graphs:\n",
    "                cell_graphs[i].extend(all_cell_graphs[p])\n",
    "\n",
    "    # Set up dataloaders\n",
    "    train_loader = DataLoader(cell_graphs['train'],\n",
    "                        batch_size=batch_size, shuffle=True, drop_last = True)\n",
    "    val_loader = DataLoader(cell_graphs['val'],\n",
    "                        batch_size=batch_size, shuffle=True)\n",
    "\n",
    "    test_loader = DataLoader(cell_graphs['test'],\n",
    "                    batch_size=batch_size, shuffle=False)\n",
    "    return {'train_loader': train_loader,\n",
    "                        'val_loader': val_loader,\n",
    "                        'test_loader': test_loader}\n",
    "\n",
    "# for sample_frac in [40, 50, 60]:\n",
    "n_train = 4278\n",
    "n_samples = [100, 200, 350, 500, 750, 1000, 1250, 1500]\n",
    "for seed in [123, 847, 618]:\n",
    "    for n_sample in n_samples:\n",
    "        sample_frac = float(n_sample) / float(n_train) * 100\n",
    "        # for label in ['delta_tot', 'raw_y']:\n",
    "        for label in ['raw_y']:\n",
    "\n",
    "            # GI = GI_expt(set_train = train_genes)\n",
    "            GI = GI_expt(pick_genes=None)\n",
    "            itr_data = GI.pre_process(sample=sample_frac, seed=seed)\n",
    "\n",
    "            itr_data['raw_y'] = fitness_data['good_phen']\n",
    "            y = itr_data[label].values\n",
    "\n",
    "            gene2idx = dict(zip(itr_data[label].index.values, range(len(itr_data[label].index.values))))\n",
    "\n",
    "            pert_list = [i[0] + '+' + i[1] for i in list(combinations(itr_data[label].index.values, 2))]\n",
    "            pert_list += [i + '+ctrl' for i in unique_pert_genes]\n",
    "\n",
    "            y_list = []\n",
    "            for i in pert_list:\n",
    "                if i.split('+')[1]!= 'ctrl':\n",
    "                    y_list.append(y[gene2idx[i.split('+')[0]], gene2idx[i.split('+')[1]]])\n",
    "                else:\n",
    "                    y_list.append(y[gene2idx[i.split('+')[0]], gene2idx[i.split('+')[0]]])\n",
    "\n",
    "            pert_list2y_list = dict(zip(pert_list, y_list))\n",
    "\n",
    "            train = [i[0] + '+' + i[1] for i in itr_data['train']]\n",
    "            test = [i[0] + '+' + i[1] for i in itr_data['test']]\n",
    "\n",
    "            from sklearn.model_selection import train_test_split\n",
    "            train, val, _, _ = train_test_split(train, [-1] * len(train), test_size=0.1, random_state=seed)\n",
    "\n",
    "            ## add single back\n",
    "            train = train + [i + '+ctrl' for i in unique_pert_genes]\n",
    "\n",
    "            set2cond = {\n",
    "                'train': train,\n",
    "                'val': val,\n",
    "                'test': test\n",
    "            }\n",
    "\n",
    "            from torch_geometric.data import Data\n",
    "            import torch\n",
    "            from tqdm import tqdm\n",
    "            num_samples = 20\n",
    "            all_cell_graphs = {}\n",
    "            pert_na = []\n",
    "            for pert in tqdm(pert_list):\n",
    "                pert_name = pert\n",
    "                pert = pert.split('+')\n",
    "                pert = [i for i in pert if i!='ctrl']\n",
    "\n",
    "                # Get the indices (and signs) of applied perturbation\n",
    "                try:\n",
    "                    pert_idx = [np.where(p == np.array(all_pert_list_options))[0][0] for p in pert]\n",
    "                    Xs = ctrl_adata[np.random.randint(0, len(ctrl_adata), num_samples), :].X.toarray()\n",
    "                    # Create cell graphs\n",
    "                    all_cell_graphs[pert_name] = [Data(x=torch.Tensor(X).T, pert_idx = pert_idx, pert=pert, y=pert_list2y_list[pert_name]) for X in Xs]\n",
    "                except:\n",
    "                    pert_na.append(pert_name)\n",
    "\n",
    "            loaders = get_dataloader(set2cond, batch_size = 32)\n",
    "            train_loader = loaders['train_loader']\n",
    "            val_loader = loaders['val_loader']\n",
    "            test_loader = loaders['test_loader']\n",
    "\n",
    "            optimizer = optim.Adam(model.parameters(), lr=1e-3, weight_decay = 5e-4)\n",
    "            scheduler = StepLR(optimizer, step_size=1, gamma=0.5)\n",
    "\n",
    "            loss_fct = F.mse_loss\n",
    "            earlystop_validation_metric = 'mse'\n",
    "            binary_output = False\n",
    "\n",
    "            earlystop_direction = 'descend'\n",
    "            min_val = np.inf\n",
    "\n",
    "            best_model = deepcopy(model).to(device)\n",
    "\n",
    "            loss_history = {\n",
    "                'loss': []\n",
    "            }\n",
    "\n",
    "            print('Start Training...')\n",
    "            for epoch in range(1):\n",
    "                model.train()\n",
    "\n",
    "                for step, batch in enumerate(tqdm(train_loader)):\n",
    "                    optimizer.zero_grad()\n",
    "                    batch = batch.to(device)\n",
    "                    out, y_pred = model(batch)\n",
    "                    loss = loss_fct(batch.y.float().reshape(-1), y_pred.reshape(-1))\n",
    "                    loss.backward()\n",
    "                    optimizer.step()\n",
    "                    loss_history['loss'].append(loss.item())\n",
    "\n",
    "                    if (step % 200 == 0) and (step >= 200):\n",
    "                        log = \"Epoch {} Step {} Train Loss: {:.4f}\" \n",
    "                        print(log.format(epoch + 1, step + 1, loss.item()))\n",
    "                #_, val_loss\n",
    "                val_y_all, val_loss_all, val_pert_all, val_y_true_all = evaluate(model, val_loader)\n",
    "                if np.mean(val_loss_all) < min_val:\n",
    "                    best_model = deepcopy(model)\n",
    "                    min_val = np.mean(val_loss_all)\n",
    "            test_y_all, test_loss_all, test_pert_all, test_y_true_all = evaluate(best_model, test_loader)\n",
    "            print(np.mean(test_loss_all))\n",
    "\n",
    "\n",
    "            pert_test_list = [i[0] + '+' +  i[1] if len(i) == 2 else i[0] +'+ctrl' for i in [j for i in test_pert_all for j in i]]\n",
    "            test_y_list = np.concatenate([i for i in [j for i in test_y_all for j in i]])\n",
    "            test_y_true_list = np.concatenate([i.detach().cpu().numpy() for i in test_y_true_all])\n",
    "            df_pred = pd.DataFrame((pert_test_list, test_y_true_list, test_y_list)).T\n",
    "            pert2y_true = dict(df_pred.groupby([0])[1].agg(np.mean))\n",
    "            pert2y_pred = dict(df_pred.groupby([0])[2].agg(np.mean))\n",
    "\n",
    "            pred = pd.DataFrame(pert2y_true, index = [0]).T.reset_index().rename(columns = {0: 'truth', 'index': 'test_pert'})\n",
    "            pred['pred'] = pred.test_pert.apply(lambda x: pert2y_pred[x])\n",
    "            pred.to_csv(results_folder + label + '_pred_no_pretrain_update_seed' + str(seed) + '_nsample' + str(n_sample) + 'norman.csv', index = False)\n",
    "            # pred.to_csv(label + '_pred_no_pretrain_update_' + str(seed) + '_' + str(sample_frac) + '_neptunesplit.csv', index = False)"
   ]
  },
  {
   "cell_type": "markdown",
   "metadata": {},
   "source": [
    "### Plotting results"
   ]
  },
  {
   "cell_type": "code",
   "execution_count": 15,
   "metadata": {},
   "outputs": [],
   "source": [
    "import matplotlib\n",
    "import matplotlib.pyplot as plt\n",
    "import seaborn as sns\n",
    "font = {'size'   : 16}\n",
    "\n",
    "matplotlib.rc('font', **font)\n",
    "from scipy.stats import pearsonr"
   ]
  },
  {
   "cell_type": "code",
   "execution_count": 16,
   "metadata": {},
   "outputs": [
    {
     "ename": "FileNotFoundError",
     "evalue": "[Errno 2] No such file or directory: 'raw_y_pred_no_pretrain_update_1_1_rep2.csv'",
     "output_type": "error",
     "traceback": [
      "\u001b[0;31m---------------------------------------------------------------------------\u001b[0m",
      "\u001b[0;31mFileNotFoundError\u001b[0m                         Traceback (most recent call last)",
      "Cell \u001b[0;32mIn[16], line 2\u001b[0m\n\u001b[1;32m      1\u001b[0m sampling_rate \u001b[38;5;241m=\u001b[39m \u001b[38;5;241m1\u001b[39m\n\u001b[0;32m----> 2\u001b[0m pred_ \u001b[38;5;241m=\u001b[39m \u001b[43mpd\u001b[49m\u001b[38;5;241;43m.\u001b[39;49m\u001b[43mread_csv\u001b[49m\u001b[43m(\u001b[49m\u001b[38;5;124;43m'\u001b[39;49m\u001b[38;5;124;43mraw_y_pred_no_pretrain_update_1_\u001b[39;49m\u001b[38;5;124;43m'\u001b[39;49m\u001b[38;5;241;43m+\u001b[39;49m\u001b[38;5;28;43mstr\u001b[39;49m\u001b[43m(\u001b[49m\u001b[43msampling_rate\u001b[49m\u001b[43m)\u001b[49m\u001b[38;5;241;43m+\u001b[39;49m\u001b[38;5;124;43m'\u001b[39;49m\u001b[38;5;124;43m_rep2.csv\u001b[39;49m\u001b[38;5;124;43m'\u001b[39;49m\u001b[43m)\u001b[49m\n\u001b[1;32m      3\u001b[0m \u001b[38;5;66;03m# pred_ = pd.read_csv('raw_y_pred_no_pretrain_update_1_'+str(sampling_rate)+'_neptunesplit.csv')\u001b[39;00m\n\u001b[1;32m      4\u001b[0m sns\u001b[38;5;241m.\u001b[39mscatterplot(x\u001b[38;5;241m=\u001b[39mpred_[\u001b[38;5;124m'\u001b[39m\u001b[38;5;124mtruth\u001b[39m\u001b[38;5;124m'\u001b[39m], y\u001b[38;5;241m=\u001b[39mpred_[\u001b[38;5;124m'\u001b[39m\u001b[38;5;124mpred\u001b[39m\u001b[38;5;124m'\u001b[39m], s \u001b[38;5;241m=\u001b[39m \u001b[38;5;241m4\u001b[39m, edgecolor\u001b[38;5;241m=\u001b[39m\u001b[38;5;124m'\u001b[39m\u001b[38;5;124mroyalblue\u001b[39m\u001b[38;5;124m'\u001b[39m, color\u001b[38;5;241m=\u001b[39m\u001b[38;5;124m'\u001b[39m\u001b[38;5;124mroyalblue\u001b[39m\u001b[38;5;124m'\u001b[39m)\n",
      "File \u001b[0;32m~/miniconda3/envs/gears-old-gh/lib/python3.8/site-packages/pandas/io/parsers/readers.py:912\u001b[0m, in \u001b[0;36mread_csv\u001b[0;34m(filepath_or_buffer, sep, delimiter, header, names, index_col, usecols, dtype, engine, converters, true_values, false_values, skipinitialspace, skiprows, skipfooter, nrows, na_values, keep_default_na, na_filter, verbose, skip_blank_lines, parse_dates, infer_datetime_format, keep_date_col, date_parser, date_format, dayfirst, cache_dates, iterator, chunksize, compression, thousands, decimal, lineterminator, quotechar, quoting, doublequote, escapechar, comment, encoding, encoding_errors, dialect, on_bad_lines, delim_whitespace, low_memory, memory_map, float_precision, storage_options, dtype_backend)\u001b[0m\n\u001b[1;32m    899\u001b[0m kwds_defaults \u001b[38;5;241m=\u001b[39m _refine_defaults_read(\n\u001b[1;32m    900\u001b[0m     dialect,\n\u001b[1;32m    901\u001b[0m     delimiter,\n\u001b[0;32m   (...)\u001b[0m\n\u001b[1;32m    908\u001b[0m     dtype_backend\u001b[38;5;241m=\u001b[39mdtype_backend,\n\u001b[1;32m    909\u001b[0m )\n\u001b[1;32m    910\u001b[0m kwds\u001b[38;5;241m.\u001b[39mupdate(kwds_defaults)\n\u001b[0;32m--> 912\u001b[0m \u001b[38;5;28;01mreturn\u001b[39;00m \u001b[43m_read\u001b[49m\u001b[43m(\u001b[49m\u001b[43mfilepath_or_buffer\u001b[49m\u001b[43m,\u001b[49m\u001b[43m \u001b[49m\u001b[43mkwds\u001b[49m\u001b[43m)\u001b[49m\n",
      "File \u001b[0;32m~/miniconda3/envs/gears-old-gh/lib/python3.8/site-packages/pandas/io/parsers/readers.py:577\u001b[0m, in \u001b[0;36m_read\u001b[0;34m(filepath_or_buffer, kwds)\u001b[0m\n\u001b[1;32m    574\u001b[0m _validate_names(kwds\u001b[38;5;241m.\u001b[39mget(\u001b[38;5;124m\"\u001b[39m\u001b[38;5;124mnames\u001b[39m\u001b[38;5;124m\"\u001b[39m, \u001b[38;5;28;01mNone\u001b[39;00m))\n\u001b[1;32m    576\u001b[0m \u001b[38;5;66;03m# Create the parser.\u001b[39;00m\n\u001b[0;32m--> 577\u001b[0m parser \u001b[38;5;241m=\u001b[39m \u001b[43mTextFileReader\u001b[49m\u001b[43m(\u001b[49m\u001b[43mfilepath_or_buffer\u001b[49m\u001b[43m,\u001b[49m\u001b[43m \u001b[49m\u001b[38;5;241;43m*\u001b[39;49m\u001b[38;5;241;43m*\u001b[39;49m\u001b[43mkwds\u001b[49m\u001b[43m)\u001b[49m\n\u001b[1;32m    579\u001b[0m \u001b[38;5;28;01mif\u001b[39;00m chunksize \u001b[38;5;129;01mor\u001b[39;00m iterator:\n\u001b[1;32m    580\u001b[0m     \u001b[38;5;28;01mreturn\u001b[39;00m parser\n",
      "File \u001b[0;32m~/miniconda3/envs/gears-old-gh/lib/python3.8/site-packages/pandas/io/parsers/readers.py:1407\u001b[0m, in \u001b[0;36mTextFileReader.__init__\u001b[0;34m(self, f, engine, **kwds)\u001b[0m\n\u001b[1;32m   1404\u001b[0m     \u001b[38;5;28mself\u001b[39m\u001b[38;5;241m.\u001b[39moptions[\u001b[38;5;124m\"\u001b[39m\u001b[38;5;124mhas_index_names\u001b[39m\u001b[38;5;124m\"\u001b[39m] \u001b[38;5;241m=\u001b[39m kwds[\u001b[38;5;124m\"\u001b[39m\u001b[38;5;124mhas_index_names\u001b[39m\u001b[38;5;124m\"\u001b[39m]\n\u001b[1;32m   1406\u001b[0m \u001b[38;5;28mself\u001b[39m\u001b[38;5;241m.\u001b[39mhandles: IOHandles \u001b[38;5;241m|\u001b[39m \u001b[38;5;28;01mNone\u001b[39;00m \u001b[38;5;241m=\u001b[39m \u001b[38;5;28;01mNone\u001b[39;00m\n\u001b[0;32m-> 1407\u001b[0m \u001b[38;5;28mself\u001b[39m\u001b[38;5;241m.\u001b[39m_engine \u001b[38;5;241m=\u001b[39m \u001b[38;5;28;43mself\u001b[39;49m\u001b[38;5;241;43m.\u001b[39;49m\u001b[43m_make_engine\u001b[49m\u001b[43m(\u001b[49m\u001b[43mf\u001b[49m\u001b[43m,\u001b[49m\u001b[43m \u001b[49m\u001b[38;5;28;43mself\u001b[39;49m\u001b[38;5;241;43m.\u001b[39;49m\u001b[43mengine\u001b[49m\u001b[43m)\u001b[49m\n",
      "File \u001b[0;32m~/miniconda3/envs/gears-old-gh/lib/python3.8/site-packages/pandas/io/parsers/readers.py:1661\u001b[0m, in \u001b[0;36mTextFileReader._make_engine\u001b[0;34m(self, f, engine)\u001b[0m\n\u001b[1;32m   1659\u001b[0m     \u001b[38;5;28;01mif\u001b[39;00m \u001b[38;5;124m\"\u001b[39m\u001b[38;5;124mb\u001b[39m\u001b[38;5;124m\"\u001b[39m \u001b[38;5;129;01mnot\u001b[39;00m \u001b[38;5;129;01min\u001b[39;00m mode:\n\u001b[1;32m   1660\u001b[0m         mode \u001b[38;5;241m+\u001b[39m\u001b[38;5;241m=\u001b[39m \u001b[38;5;124m\"\u001b[39m\u001b[38;5;124mb\u001b[39m\u001b[38;5;124m\"\u001b[39m\n\u001b[0;32m-> 1661\u001b[0m \u001b[38;5;28mself\u001b[39m\u001b[38;5;241m.\u001b[39mhandles \u001b[38;5;241m=\u001b[39m \u001b[43mget_handle\u001b[49m\u001b[43m(\u001b[49m\n\u001b[1;32m   1662\u001b[0m \u001b[43m    \u001b[49m\u001b[43mf\u001b[49m\u001b[43m,\u001b[49m\n\u001b[1;32m   1663\u001b[0m \u001b[43m    \u001b[49m\u001b[43mmode\u001b[49m\u001b[43m,\u001b[49m\n\u001b[1;32m   1664\u001b[0m \u001b[43m    \u001b[49m\u001b[43mencoding\u001b[49m\u001b[38;5;241;43m=\u001b[39;49m\u001b[38;5;28;43mself\u001b[39;49m\u001b[38;5;241;43m.\u001b[39;49m\u001b[43moptions\u001b[49m\u001b[38;5;241;43m.\u001b[39;49m\u001b[43mget\u001b[49m\u001b[43m(\u001b[49m\u001b[38;5;124;43m\"\u001b[39;49m\u001b[38;5;124;43mencoding\u001b[39;49m\u001b[38;5;124;43m\"\u001b[39;49m\u001b[43m,\u001b[49m\u001b[43m \u001b[49m\u001b[38;5;28;43;01mNone\u001b[39;49;00m\u001b[43m)\u001b[49m\u001b[43m,\u001b[49m\n\u001b[1;32m   1665\u001b[0m \u001b[43m    \u001b[49m\u001b[43mcompression\u001b[49m\u001b[38;5;241;43m=\u001b[39;49m\u001b[38;5;28;43mself\u001b[39;49m\u001b[38;5;241;43m.\u001b[39;49m\u001b[43moptions\u001b[49m\u001b[38;5;241;43m.\u001b[39;49m\u001b[43mget\u001b[49m\u001b[43m(\u001b[49m\u001b[38;5;124;43m\"\u001b[39;49m\u001b[38;5;124;43mcompression\u001b[39;49m\u001b[38;5;124;43m\"\u001b[39;49m\u001b[43m,\u001b[49m\u001b[43m \u001b[49m\u001b[38;5;28;43;01mNone\u001b[39;49;00m\u001b[43m)\u001b[49m\u001b[43m,\u001b[49m\n\u001b[1;32m   1666\u001b[0m \u001b[43m    \u001b[49m\u001b[43mmemory_map\u001b[49m\u001b[38;5;241;43m=\u001b[39;49m\u001b[38;5;28;43mself\u001b[39;49m\u001b[38;5;241;43m.\u001b[39;49m\u001b[43moptions\u001b[49m\u001b[38;5;241;43m.\u001b[39;49m\u001b[43mget\u001b[49m\u001b[43m(\u001b[49m\u001b[38;5;124;43m\"\u001b[39;49m\u001b[38;5;124;43mmemory_map\u001b[39;49m\u001b[38;5;124;43m\"\u001b[39;49m\u001b[43m,\u001b[49m\u001b[43m \u001b[49m\u001b[38;5;28;43;01mFalse\u001b[39;49;00m\u001b[43m)\u001b[49m\u001b[43m,\u001b[49m\n\u001b[1;32m   1667\u001b[0m \u001b[43m    \u001b[49m\u001b[43mis_text\u001b[49m\u001b[38;5;241;43m=\u001b[39;49m\u001b[43mis_text\u001b[49m\u001b[43m,\u001b[49m\n\u001b[1;32m   1668\u001b[0m \u001b[43m    \u001b[49m\u001b[43merrors\u001b[49m\u001b[38;5;241;43m=\u001b[39;49m\u001b[38;5;28;43mself\u001b[39;49m\u001b[38;5;241;43m.\u001b[39;49m\u001b[43moptions\u001b[49m\u001b[38;5;241;43m.\u001b[39;49m\u001b[43mget\u001b[49m\u001b[43m(\u001b[49m\u001b[38;5;124;43m\"\u001b[39;49m\u001b[38;5;124;43mencoding_errors\u001b[39;49m\u001b[38;5;124;43m\"\u001b[39;49m\u001b[43m,\u001b[49m\u001b[43m \u001b[49m\u001b[38;5;124;43m\"\u001b[39;49m\u001b[38;5;124;43mstrict\u001b[39;49m\u001b[38;5;124;43m\"\u001b[39;49m\u001b[43m)\u001b[49m\u001b[43m,\u001b[49m\n\u001b[1;32m   1669\u001b[0m \u001b[43m    \u001b[49m\u001b[43mstorage_options\u001b[49m\u001b[38;5;241;43m=\u001b[39;49m\u001b[38;5;28;43mself\u001b[39;49m\u001b[38;5;241;43m.\u001b[39;49m\u001b[43moptions\u001b[49m\u001b[38;5;241;43m.\u001b[39;49m\u001b[43mget\u001b[49m\u001b[43m(\u001b[49m\u001b[38;5;124;43m\"\u001b[39;49m\u001b[38;5;124;43mstorage_options\u001b[39;49m\u001b[38;5;124;43m\"\u001b[39;49m\u001b[43m,\u001b[49m\u001b[43m \u001b[49m\u001b[38;5;28;43;01mNone\u001b[39;49;00m\u001b[43m)\u001b[49m\u001b[43m,\u001b[49m\n\u001b[1;32m   1670\u001b[0m \u001b[43m\u001b[49m\u001b[43m)\u001b[49m\n\u001b[1;32m   1671\u001b[0m \u001b[38;5;28;01massert\u001b[39;00m \u001b[38;5;28mself\u001b[39m\u001b[38;5;241m.\u001b[39mhandles \u001b[38;5;129;01mis\u001b[39;00m \u001b[38;5;129;01mnot\u001b[39;00m \u001b[38;5;28;01mNone\u001b[39;00m\n\u001b[1;32m   1672\u001b[0m f \u001b[38;5;241m=\u001b[39m \u001b[38;5;28mself\u001b[39m\u001b[38;5;241m.\u001b[39mhandles\u001b[38;5;241m.\u001b[39mhandle\n",
      "File \u001b[0;32m~/miniconda3/envs/gears-old-gh/lib/python3.8/site-packages/pandas/io/common.py:859\u001b[0m, in \u001b[0;36mget_handle\u001b[0;34m(path_or_buf, mode, encoding, compression, memory_map, is_text, errors, storage_options)\u001b[0m\n\u001b[1;32m    854\u001b[0m \u001b[38;5;28;01melif\u001b[39;00m \u001b[38;5;28misinstance\u001b[39m(handle, \u001b[38;5;28mstr\u001b[39m):\n\u001b[1;32m    855\u001b[0m     \u001b[38;5;66;03m# Check whether the filename is to be opened in binary mode.\u001b[39;00m\n\u001b[1;32m    856\u001b[0m     \u001b[38;5;66;03m# Binary mode does not support 'encoding' and 'newline'.\u001b[39;00m\n\u001b[1;32m    857\u001b[0m     \u001b[38;5;28;01mif\u001b[39;00m ioargs\u001b[38;5;241m.\u001b[39mencoding \u001b[38;5;129;01mand\u001b[39;00m \u001b[38;5;124m\"\u001b[39m\u001b[38;5;124mb\u001b[39m\u001b[38;5;124m\"\u001b[39m \u001b[38;5;129;01mnot\u001b[39;00m \u001b[38;5;129;01min\u001b[39;00m ioargs\u001b[38;5;241m.\u001b[39mmode:\n\u001b[1;32m    858\u001b[0m         \u001b[38;5;66;03m# Encoding\u001b[39;00m\n\u001b[0;32m--> 859\u001b[0m         handle \u001b[38;5;241m=\u001b[39m \u001b[38;5;28;43mopen\u001b[39;49m\u001b[43m(\u001b[49m\n\u001b[1;32m    860\u001b[0m \u001b[43m            \u001b[49m\u001b[43mhandle\u001b[49m\u001b[43m,\u001b[49m\n\u001b[1;32m    861\u001b[0m \u001b[43m            \u001b[49m\u001b[43mioargs\u001b[49m\u001b[38;5;241;43m.\u001b[39;49m\u001b[43mmode\u001b[49m\u001b[43m,\u001b[49m\n\u001b[1;32m    862\u001b[0m \u001b[43m            \u001b[49m\u001b[43mencoding\u001b[49m\u001b[38;5;241;43m=\u001b[39;49m\u001b[43mioargs\u001b[49m\u001b[38;5;241;43m.\u001b[39;49m\u001b[43mencoding\u001b[49m\u001b[43m,\u001b[49m\n\u001b[1;32m    863\u001b[0m \u001b[43m            \u001b[49m\u001b[43merrors\u001b[49m\u001b[38;5;241;43m=\u001b[39;49m\u001b[43merrors\u001b[49m\u001b[43m,\u001b[49m\n\u001b[1;32m    864\u001b[0m \u001b[43m            \u001b[49m\u001b[43mnewline\u001b[49m\u001b[38;5;241;43m=\u001b[39;49m\u001b[38;5;124;43m\"\u001b[39;49m\u001b[38;5;124;43m\"\u001b[39;49m\u001b[43m,\u001b[49m\n\u001b[1;32m    865\u001b[0m \u001b[43m        \u001b[49m\u001b[43m)\u001b[49m\n\u001b[1;32m    866\u001b[0m     \u001b[38;5;28;01melse\u001b[39;00m:\n\u001b[1;32m    867\u001b[0m         \u001b[38;5;66;03m# Binary mode\u001b[39;00m\n\u001b[1;32m    868\u001b[0m         handle \u001b[38;5;241m=\u001b[39m \u001b[38;5;28mopen\u001b[39m(handle, ioargs\u001b[38;5;241m.\u001b[39mmode)\n",
      "\u001b[0;31mFileNotFoundError\u001b[0m: [Errno 2] No such file or directory: 'raw_y_pred_no_pretrain_update_1_1_rep2.csv'"
     ]
    }
   ],
   "source": [
    "sampling_rate = 1\n",
    "pred_ = pd.read_csv('raw_y_pred_no_pretrain_update_1_'+str(sampling_rate)+'_rep2.csv')\n",
    "# pred_ = pd.read_csv('raw_y_pred_no_pretrain_update_1_'+str(sampling_rate)+'_neptunesplit.csv')\n",
    "sns.scatterplot(x=pred_['truth'], y=pred_['pred'], s = 4, edgecolor='royalblue', color='royalblue')\n",
    "\n",
    "plot_min = pred_.iloc[:,1:].values.min()\n",
    "plot_max = pred_.iloc[:,1:].values.max()\n",
    "\n",
    "plt.plot([plot_min,plot_max],[plot_min,plot_max],color='black', linestyle='--')\n",
    "plt.ylabel('Predicted Cell Fitness')\n",
    "plt.xlabel('True Cell Fitness')\n",
    "\n",
    "r_2 = pearsonr(pred_['truth'], pred_['pred'])[0]**2\n",
    "plt.text(-0.75, 0.1, r\"$R^2=$\"+str(round(r_2,3)))\n",
    "\n",
    "plt.title('Sampling rate: '+str(sampling_rate) +'%', fontsize=16)\n",
    "plt.savefig('Norman_fitness_'+str(sampling_rate)+'.pdf',dpi=200, bbox_inches = \"tight\")\n",
    "\n",
    "print('MSE: ' + str(np.sum((pred_['truth'] - pred_['pred'])**2) / pred_.shape[0]))"
   ]
  },
  {
   "cell_type": "code",
   "execution_count": 16,
   "metadata": {},
   "outputs": [
    {
     "name": "stdout",
     "output_type": "stream",
     "text": [
      "MSE: 0.007000032147680486\n"
     ]
    },
    {
     "data": {
      "image/png": "[encoded data removed]",
      "text/plain": [
       "<Figure size 640x480 with 1 Axes>"
      ]
     },
     "metadata": {},
     "output_type": "display_data"
    }
   ],
   "source": [
    "sampling_rate = 10\n",
    "pred_ = pd.read_csv('raw_y_pred_no_pretrain_update_1_'+str(sampling_rate)+'_rep2.csv')\n",
    "# pred_ = pd.read_csv('raw_y_pred_no_pretrain_update_1_'+str(sampling_rate)+'_neptunesplit.csv')\n",
    "sns.scatterplot(x=pred_['truth'], y=pred_['pred'], s = 4,  edgecolor='royalblue', color='royalblue')\n",
    "\n",
    "plot_min = pred_.iloc[:,1:].values.min()\n",
    "plot_max = pred_.iloc[:,1:].values.max()\n",
    "\n",
    "plt.plot([plot_min,plot_max],[plot_min,plot_max],color='black', linestyle='--')\n",
    "plt.ylabel('Predicted Cell Fitness')\n",
    "plt.xlabel('True Cell Fitness')\n",
    "\n",
    "r_2 = pearsonr(pred_['truth'], pred_['pred'])[0]**2\n",
    "plt.text(-0.75, 0.1, r\"$R^2=$\"+str(round(r_2,3)))\n",
    "\n",
    "plt.title('Sampling rate: '+str(sampling_rate) +'%', fontsize=16)\n",
    "plt.savefig('Norman_fitness_'+str(sampling_rate)+'.pdf',dpi=200, bbox_inches = \"tight\")\n",
    "\n",
    "print('MSE: ' + str(np.sum((pred_['truth'] - pred_['pred'])**2) / pred_.shape[0]))"
   ]
  },
  {
   "cell_type": "code",
   "execution_count": 17,
   "metadata": {
    "scrolled": true
   },
   "outputs": [
    {
     "data": {
      "image/png": "[encoded data removed]",
      "text/plain": [
       "<Figure size 640x480 with 1 Axes>"
      ]
     },
     "metadata": {},
     "output_type": "display_data"
    }
   ],
   "source": [
    "sampling_rate = 60\n",
    "pred_ = pd.read_csv('raw_y_pred_no_pretrain_update_1_'+str(sampling_rate)+'_rep2.csv')\n",
    "# pred_ = pd.read_csv('raw_y_pred_no_pretrain_update_1_'+str(sampling_rate)+'_neptunesplit.csv')\n",
    "sns.scatterplot(x=pred_['truth'], y=pred_['pred'], s = 4, edgecolor='royalblue', color='royalblue')\n",
    "\n",
    "plot_min = pred_.iloc[:,1:].values.min()\n",
    "plot_max = pred_.iloc[:,1:].values.max()\n",
    "\n",
    "plt.plot([plot_min,plot_max],[plot_min,plot_max],color='black', linestyle='--')\n",
    "plt.ylabel('Predicted Cell Fitness')\n",
    "plt.xlabel('True Cell Fitness')\n",
    "\n",
    "r_2 = pearsonr(pred_['truth'], pred_['pred'])[0]**2\n",
    "plt.text(-0.75, 0.1, r\"$R^2=$\"+str(round(r_2,3)))\n",
    "\n",
    "plt.title('Sampling rate: '+str(sampling_rate) +'%', fontsize=16)\n",
    "plt.savefig('Norman_fitness_'+str(sampling_rate)+'.pdf',dpi=200, bbox_inches = \"tight\")"
   ]
  }
 ],
 "metadata": {
  "kernelspec": {
   "display_name": "gears-env",
   "language": "python",
   "name": "python3"
  },
  "language_info": {
   "codemirror_mode": {
    "name": "ipython",
    "version": 3
   },
   "file_extension": ".py",
   "mimetype": "text/x-python",
   "name": "python",
   "nbconvert_exporter": "python",
   "pygments_lexer": "ipython3",
   "version": "3.8.19"
  }
 },
 "nbformat": 4,
 "nbformat_minor": 5
}
